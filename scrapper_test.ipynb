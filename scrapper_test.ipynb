{
 "cells": [
  {
   "cell_type": "code",
   "execution_count": null,
   "metadata": {},
   "outputs": [],
   "source": [
    "# !pip install selenium"
   ]
  },
  {
   "cell_type": "code",
   "execution_count": 1,
   "metadata": {},
   "outputs": [],
   "source": [
    "from selenium import webdriver\n",
    "from selenium.webdriver.common.by import By\n",
    "from selenium.webdriver.chrome.webdriver import WebDriver\n",
    "from selenium.webdriver.support.wait import WebDriverWait\n",
    "from selenium.webdriver.support import expected_conditions as EC\n",
    "from bs4 import BeautifulSoup\n",
    "import requests\n",
    "\n",
    "\n",
    "import time\n",
    "import random"
   ]
  },
  {
   "cell_type": "code",
   "execution_count": null,
   "metadata": {},
   "outputs": [],
   "source": [
    "driver = webdriver.Chrome()\n",
    "# Islamabad Page\n",
    "driver.get('https://www.zameen.com/new-projects/islamabad-3-1/')\n",
    "\n",
    "\n",
    "# Get all the anchor tags\n",
    "all_projects_selector = 'main > div > div > div > div > div > a'\n",
    "\n",
    "elements = driver.find_elements(By.CSS_SELECTOR, all_projects_selector)\n"
   ]
  },
  {
   "cell_type": "code",
   "execution_count": null,
   "metadata": {},
   "outputs": [],
   "source": [
    "type(driver)"
   ]
  },
  {
   "cell_type": "markdown",
   "metadata": {},
   "source": [
    "##### Loop through Tags and extract the links"
   ]
  },
  {
   "cell_type": "code",
   "execution_count": null,
   "metadata": {},
   "outputs": [],
   "source": [
    "def html_to_file(html, output_file = 'output.html'):\n",
    "    pretty_soup = BeautifulSoup(html, 'html.parser').prettify()\n",
    "    # Write the BeautifulSoup object to an HTML file\n",
    "    with open(output_file, 'w', encoding='utf-8') as file:\n",
    "        file.write(pretty_soup)"
   ]
  },
  {
   "cell_type": "markdown",
   "metadata": {},
   "source": [
    "1. Get Links for all the pages projects in the City\n",
    "    TO Do this, Open the city page, get all the links,\n",
    "    Do this till gone through all the pages of a city.\n",
    "2. Then open these links in selenium one by page, and gather information for each project"
   ]
  },
  {
   "cell_type": "code",
   "execution_count": null,
   "metadata": {},
   "outputs": [],
   "source": [
    "url = f'https://www.zameen.com/new-projects/islamabad-3-1/'\n",
    "response = requests.get(url)\n",
    "soup = BeautifulSoup(response.text, 'html.parser')\n",
    "\n",
    "offering_divs = soup.select(\"main > div > div > div > div > div > a\")\n",
    "\n",
    "offering_divs\n"
   ]
  },
  {
   "cell_type": "code",
   "execution_count": null,
   "metadata": {},
   "outputs": [],
   "source": [
    "urls = [ele.get('href') for ele in offering_divs]"
   ]
  },
  {
   "cell_type": "code",
   "execution_count": null,
   "metadata": {},
   "outputs": [],
   "source": [
    "class City:\n",
    "    def __init__(self, url) -> None:\n",
    "        self.url = url\n",
    "    \n",
    "    def _get_total_pages(self):\n",
    "        response = requests.get(self.url)\n",
    "        soup = BeautifulSoup(response.text)\n",
    "\n",
    "        total_pages = int(soup.select_one('ul[aria-label=\"Pagination\"] > li:nth-last-child(2) > a').text)\n",
    "\n",
    "        return total_pages\n",
    "\n",
    "    def get_all_project_links(self):\n",
    "        \n",
    "        city_project_urls = []\n",
    "        total_pages = self._get_total_pages()\n",
    "\n",
    "        for page in range(1, total_pages+1):\n",
    "            time.sleep(random.randint(1, 5))\n",
    "            try:\n",
    "                response = requests.get(f'https://www.zameen.com/new-projects/islamabad-3-1/?page={page}')\n",
    "                    \n",
    "                soup = BeautifulSoup(response.text)\n",
    "                proj_tags = soup.select(\"main > div > div > div > div > div > a\")\n",
    "                urls = [ele.get('href') for ele in proj_tags]\n",
    "                city_project_urls.extend(urls)\n",
    "            \n",
    "            except requests.exceptions.ReadTimeout:\n",
    "                time.sleep(10)\n",
    "                continue\n",
    "            \n",
    "        return city_project_urls\n",
    "    \n",
    "    def scrap(self):\n",
    "        pass\n",
    "        "
   ]
  },
  {
   "cell_type": "code",
   "execution_count": null,
   "metadata": {},
   "outputs": [],
   "source": [
    "city_soup = BeautifulSoup(requests.get('https://www.zameen.com/new-projects/islamabad-3-1/').text)"
   ]
  },
  {
   "cell_type": "code",
   "execution_count": null,
   "metadata": {},
   "outputs": [],
   "source": [
    "# There is only a single ul having area-label of Pagination\n",
    "total_pages = int(city_soup.select_one('ul[aria-label=\"Pagination\"] > li:nth-last-child(2) > a').text)\n",
    "total_pages"
   ]
  },
  {
   "cell_type": "code",
   "execution_count": null,
   "metadata": {},
   "outputs": [],
   "source": [
    "range(1, total_pages+1)"
   ]
  },
  {
   "cell_type": "code",
   "execution_count": null,
   "metadata": {},
   "outputs": [],
   "source": [
    "city_project_urls = []\n",
    "for page in range(1, total_pages+1):\n",
    "    time.sleep(random.randint(1, 5))\n",
    "    try:\n",
    "        response = requests.get(f'https://www.zameen.com/new-projects/islamabad-3-1/?page={page}')\n",
    "            \n",
    "        soup = BeautifulSoup(response.text)\n",
    "        proj_tags = soup.select(\"main > div > div > div > div > div > a\")\n",
    "        urls = [ele.get('href') for ele in proj_tags]\n",
    "        city_project_urls.extend(urls)\n",
    "    \n",
    "    except requests.exceptions.ReadTimeout:\n",
    "        time.sleep(10)\n",
    "        continue"
   ]
  },
  {
   "cell_type": "code",
   "execution_count": null,
   "metadata": {},
   "outputs": [],
   "source": [
    "try:\n",
    "    pass\n",
    "\n",
    "except requests.exceptions.ReadTimeout:\n",
    "    pass"
   ]
  },
  {
   "cell_type": "code",
   "execution_count": null,
   "metadata": {},
   "outputs": [],
   "source": [
    "city_project_urls"
   ]
  },
  {
   "cell_type": "code",
   "execution_count": 2,
   "metadata": {},
   "outputs": [],
   "source": [
    "def get_text_javascript(driver, ele):\n",
    "    \"\"\"Get text of the element using javascript\n",
    "    This allows getting text even for hidden elements\n",
    "    \"\"\"\n",
    "    return driver.execute_script(\"return arguments[0].textContent;\", ele)"
   ]
  },
  {
   "cell_type": "code",
   "execution_count": 8,
   "metadata": {},
   "outputs": [],
   "source": [
    "class Page:\n",
    "    def __init__(self, url) -> None:\n",
    "        self.url = url\n",
    "\n",
    "    def scrap(self, driver: WebDriver):\n",
    "        driver.get(self.url)\n",
    "\n",
    "\n",
    "        # Wait for the page to be fully loaded\n",
    "        WebDriverWait(driver, 10).until(\n",
    "            lambda driver: driver.execute_script(\"return document.readyState\") == \"complete\"\n",
    "        )\n",
    "\n",
    "\n",
    "        project_name_selector = 'main > div > div > div:nth-child(1) > div > div:nth-child(2) > h1'\n",
    "        project_location_selector = 'main > div> div > div:nth-child(1) > div > div:nth-child(2) > div > div > div'\n",
    "\n",
    "        WebDriverWait(driver, 10).until(\n",
    "            EC.presence_of_element_located((By.CSS_SELECTOR, project_name_selector))\n",
    "            )\n",
    "\n",
    "        WebDriverWait(driver, 10).until(\n",
    "            EC.presence_of_element_located((By.CSS_SELECTOR, project_location_selector))\n",
    "            )\n",
    "\n",
    "        project_name = get_text_javascript(driver.find_element(By.CSS_SELECTOR, project_name_selector))\n",
    "        project_location = get_text_javascript(driver.find_element(By.CSS_SELECTOR, project_location_selector))\n",
    "\n",
    "        project_data = self._get_data(driver)\n",
    "        \n",
    "        # Create new dict with some info and then update it with the project_data dict\n",
    "        # This way, the added information will appear at top of the dict\n",
    "        data_dict = {'project_name': project_name, 'project_location': project_location}\n",
    "        data_dict.update(project_data)\n",
    "\n",
    "\n",
    "\n",
    "        return data_dict\n",
    "\n",
    "    \n",
    "    def _get_overview(self, driver):\n",
    "        overview_elements = driver.find_elements(By.CSS_SELECTOR, 'main > div > div:nth-child(2) > div > div:nth-child(1) > div > div[class^=\"new-projects-overview\"] [class^=\"new-projects-overview_value\"]')\n",
    "\n",
    "        offerings = overview_elements[0].text\n",
    "        offerings = list(map(lambda x: x.strip(), offerings.split(' ')))\n",
    "\n",
    "\n",
    "        developer = overview_elements[1].text\n",
    "\n",
    "    def _get_data(self, driver):\n",
    "    \n",
    "        this_project_data = {}\n",
    "\n",
    "        overview_elements = driver.find_elements(By.CSS_SELECTOR, 'main > div > div:nth-child(2) > div > div:nth-child(1) > div > div[class^=\"new-projects-overview\"] [class^=\"new-projects-overview_value\"]')\n",
    "\n",
    "        offerings = overview_elements[0].text\n",
    "        offerings = list(map(lambda x: x.strip(), offerings.split(' ')))\n",
    "\n",
    "\n",
    "        developer = overview_elements[1].text\n",
    "\n",
    "        this_project_data['offerings'] = offerings\n",
    "        this_project_data['developer'] = developer\n",
    "\n",
    "        info_parent_element = driver.find_element(By.CSS_SELECTOR, 'main > div > div:nth-child(2) > div > div:nth-child(2) > div > div')\n",
    "        info_elements = info_parent_element.find_elements(By.CSS_SELECTOR, ':scope > div')\n",
    "\n",
    "        tile_data = []\n",
    "        for info_ele in info_elements:\n",
    "            info_ele_data = {}\n",
    "            # Get type name\n",
    "            \n",
    "            # Open the element and trigger it's loading\n",
    "            info_ele.click()\n",
    "\n",
    "            \n",
    "            time.sleep(random.random()) # Some sleep to ensure loading \n",
    "\n",
    "            type_name = get_text_javascript(info_ele.find_element(By.CSS_SELECTOR, 'div.rc-collapse-header [class*=\"property-type-collpase_headerTitle\"]'))\n",
    "            \n",
    "            # Get price range\n",
    "            price_range = get_text_javascript(info_ele.find_element(By.CSS_SELECTOR, 'div.rc-collapse-header [class*=\"property-type-collpase_price\"]'))\n",
    "            \n",
    "            if type_name.casefold() == 'shops':\n",
    "                continue\n",
    "            #Get the info cards within this type\n",
    "\n",
    "            info_ele_data['type'] = type_name\n",
    "            info_ele_data['price_range'] = price_range\n",
    "\n",
    "            info_cards = info_ele.find_elements(By.CSS_SELECTOR, 'div.rc-collapse-content-box div[class*=\"card_card\"]')\n",
    "                    \n",
    "            \n",
    "            # Get info from each card\n",
    "            cards_data_list = []\n",
    "            for card in info_cards:\n",
    "                card_data = {}\n",
    "\n",
    "\n",
    "                # match type_name.casefold():\n",
    "                #     case 'flats':\n",
    "                #         (card_type_ele, card_price_ele) = card.find_elements(By.CSS_SELECTOR, 'div[class*=\"property-type-collpase_cardHeader\"] > div > div')\n",
    "            \n",
    "                #     case _:\n",
    "                #         (card_type_ele, card_price_ele) = card.find_elements(By.CSS_SELECTOR, 'div[class*=\"property-type-collpase_cardHeader\"] > div > div')\n",
    "\n",
    "                (card_type_ele, card_price_ele) = card.find_elements(By.CSS_SELECTOR, 'div[class*=\"property-type-collpase_cardHeader\"] > div > div')\n",
    "                card_type, card_price = get_text_javascript(card_type_ele), get_text_javascript(card_price_ele)\n",
    "\n",
    "                card_data['type'] = card_type\n",
    "                card_data['price'] = card_price\n",
    "\n",
    "                # Info blocks within a card\n",
    "                info_blocks = card.find_elements(By.CSS_SELECTOR, 'div[class*=\"property-type-collpase_infoBlock\"]')\n",
    "                \n",
    "                # A single key would not be repeated within a block\n",
    "                for block in info_blocks:\n",
    "                    #property name\n",
    "                    property_name = get_text_javascript(block.find_element(By.CSS_SELECTOR, ':scope > div:nth-child(2) div[class*=\"property-type-collpase_key\"]'))\n",
    "                    #property value\n",
    "                    property_val = get_text_javascript(block.find_element(By.CSS_SELECTOR, ':scope > div:nth-child(2) div[class*=\"property-type-collpase_value\"]'))\n",
    "\n",
    "                    card_data[property_name] = property_val\n",
    "\n",
    "                cards_data_list.append(card_data)\n",
    "            \n",
    "            info_ele_data['cards'] = cards_data_list\n",
    "\n",
    "            tile_data.append(info_ele_data)\n",
    "\n",
    "        this_project_data['tiles'] = tile_data\n",
    "\n",
    "        return this_project_data\n",
    "\n",
    "\n",
    "\n",
    "\n",
    "    "
   ]
  },
  {
   "cell_type": "code",
   "execution_count": null,
   "metadata": {},
   "outputs": [],
   "source": [
    "# html_to_file(city_soup.select_one('ul[aria-label=\"Pagination\"]').prettify(), 'pagi.html')"
   ]
  },
  {
   "cell_type": "code",
   "execution_count": null,
   "metadata": {},
   "outputs": [],
   "source": [
    "driver = webdriver.Chrome()\n",
    "\n",
    "proj_base_url = 'https://www.zameen.com'\n",
    "page_url = proj_base_url + city_project_urls[2]\n",
    "driver.get(page_url)\n",
    "\n",
    "# Wait for the page to be fully loaded\n",
    "WebDriverWait(driver, 10).until(\n",
    "    lambda driver: driver.execute_script(\"return document.readyState\") == \"complete\"\n",
    ")\n"
   ]
  },
  {
   "cell_type": "code",
   "execution_count": null,
   "metadata": {},
   "outputs": [],
   "source": [
    "proj_base_url = 'https://www.zameen.com'\n",
    "page_url = proj_base_url + city_project_urls[2]\n"
   ]
  },
  {
   "cell_type": "code",
   "execution_count": 9,
   "metadata": {},
   "outputs": [],
   "source": [
    "driver = webdriver.Chrome()\n",
    "# proj_base_url = 'https://www.zameen.com'\n",
    "# page_url = proj_base_url + city_project_urls[2]\n",
    "\n",
    "page_url = \"https://www.zameen.com/new-projects/360_the_residences-2241/\"\n",
    "\n",
    "\n",
    "page = Page(page_url)\n",
    "project_data = page.scrap(driver)"
   ]
  },
  {
   "cell_type": "code",
   "execution_count": 10,
   "metadata": {},
   "outputs": [
    {
     "data": {
      "text/plain": [
       "{'project_name': '360 The Residences',\n",
       " 'project_location': 'Bhara kahu, Islamabad',\n",
       " 'offerings': ['Flats,', 'Flats'],\n",
       " 'developer': 'Hajvairy Developers',\n",
       " 'tiles': [{'type': 'Flats',\n",
       "   'price_range': 'PKR 1.53 Crore to 6.65 Crore',\n",
       "   'cards': [{'type': '1 Bed Classic Apartment',\n",
       "     'price': 'PKR 1.53 Crore',\n",
       "     'Area Size ': '3.68 marla',\n",
       "     'Bedrooms ': '1',\n",
       "     'Bathrooms ': '1'},\n",
       "    {'type': '1 BEDS FLATS (EXECUTIVE ON 1ST - 12TH FLOOR)',\n",
       "     'price': 'PKR 1.56 Crore',\n",
       "     'Area Size ': '3.76 marla',\n",
       "     'Bedrooms ': '1',\n",
       "     'Bathrooms ': '1'},\n",
       "    {'type': '2 BEDS FLATS (EXECUTIVE ON 1ST - 12TH FLOOR)',\n",
       "     'price': 'PKR 2.2 Crore',\n",
       "     'Area Size ': '5.31 marla',\n",
       "     'Bedrooms ': '2',\n",
       "     'Bathrooms ': '2'},\n",
       "    {'type': '3 BEDS FLATS (GOLD ON 1ST - 12TH FLOOR)',\n",
       "     'price': 'PKR 3.31 Crore',\n",
       "     'Area Size ': '7.99 marla',\n",
       "     'Bedrooms ': '3',\n",
       "     'Bathrooms ': '3'},\n",
       "    {'type': '1 BEDS FLATS (PREMIUM ON 1ST - 12TH FLOOR)',\n",
       "     'price': 'PKR 1.65 Crore',\n",
       "     'Area Size ': '4 marla',\n",
       "     'Bathrooms ': '1',\n",
       "     'Bedrooms ': '1'},\n",
       "    {'type': '3 BEDS FLATS (PREMIUM ON 1ST - 12TH FLOOR)',\n",
       "     'price': 'PKR 3.64 Crore',\n",
       "     'Area Size ': '8.79 marla',\n",
       "     'Bedrooms ': '3',\n",
       "     'Bathrooms ': '3'},\n",
       "    {'type': '4 BEDS FLATS (LUXURY ON 1ST - 12TH FLOOR)',\n",
       "     'price': 'PKR 4.52 Crore',\n",
       "     'Area Size ': '10.93 marla',\n",
       "     'Bathrooms ': '4',\n",
       "     'Bedrooms ': '4'},\n",
       "    {'type': '1 BEDS FLATS (LOFT PENTHOUSE ON 14TH - 20TH FLOOR)',\n",
       "     'price': 'PKR 3.23 Crore',\n",
       "     'Area Size ': '6.97 marla',\n",
       "     'Bedrooms ': '1',\n",
       "     'Bathrooms ': '1'},\n",
       "    {'type': '2 BEDS FLATS (LOFT PENTHOUSE ON 14TH - 20TH FLOOR)',\n",
       "     'price': 'PKR 3.71 Crore to 3.84 Crore',\n",
       "     'Area Size ': '8 - 8.28 marla',\n",
       "     'Bedrooms ': '2',\n",
       "     'Bathrooms ': '2'},\n",
       "    {'type': '4 BEDS FLATS (LOFT PENTHOUSE ON 14TH - 20TH FLOOR)',\n",
       "     'price': 'PKR 3.66 Crore to 6.1 Crore',\n",
       "     'Area Size ': '13.15 - 13.72 marla',\n",
       "     'Bedrooms ': '4',\n",
       "     'Bathrooms ': '4'},\n",
       "    {'type': '4 BEDS FLATS (PRESIDENTIAL LOFT PENTHOUSE ON 14TH - 20TH FLOOR)',\n",
       "     'price': 'PKR 6.65 Crore',\n",
       "     'Area Size ': '14.35 marla',\n",
       "     'Bathrooms ': '4',\n",
       "     'Bedrooms ': '4'}]},\n",
       "  {'type': 'Flats',\n",
       "   'price_range': 'PKR 2.36 Crore to 3.66 Crore',\n",
       "   'cards': [{'type': 'Emeralf Tower',\n",
       "     'price': 'PKR 2.36 Crore to 3.66 Crore',\n",
       "     'Area Size ': '4.17 - 6.64 marla'}]}]}"
      ]
     },
     "execution_count": 10,
     "metadata": {},
     "output_type": "execute_result"
    }
   ],
   "source": [
    "project_data"
   ]
  },
  {
   "cell_type": "code",
   "execution_count": null,
   "metadata": {},
   "outputs": [],
   "source": [
    "get_text_javascript(driver.find_element(By.CSS_SELECTOR, 'main > div > div > div:nth-child(1) > div > div:nth-child(2) > h1'))\n",
    "get_text_javascript(driver.find_element(By.CSS_SELECTOR, 'main > div> div > div:nth-child(1) > div > div:nth-child(2) > div > div > div'))"
   ]
  },
  {
   "cell_type": "code",
   "execution_count": null,
   "metadata": {},
   "outputs": [],
   "source": [
    "# driver.find_elements(By.CSS_SELECTOR, 'h2[class*=\"heading\"]')\n",
    "overview_elements = driver.find_elements(By.CSS_SELECTOR, 'main > div > div:nth-child(2) > div > div:nth-child(1) > div > div[class^=\"new-projects-overview\"] [class^=\"new-projects-overview_value\"]')\n",
    "\n",
    "offerings = overview_elements[0].text\n",
    "developer = overview_elements[1].text"
   ]
  },
  {
   "cell_type": "code",
   "execution_count": null,
   "metadata": {},
   "outputs": [],
   "source": [
    "list(map(lambda x: x.strip(), offerings.split(' ')))"
   ]
  },
  {
   "cell_type": "code",
   "execution_count": null,
   "metadata": {},
   "outputs": [],
   "source": [
    "info_parent_element = driver.find_element(By.CSS_SELECTOR, 'main > div > div:nth-child(2) > div > div:nth-child(2) > div > div')\n",
    "info_parent_element.get_attribute('outerHTML')"
   ]
  },
  {
   "cell_type": "code",
   "execution_count": null,
   "metadata": {},
   "outputs": [],
   "source": [
    "info_elements = info_parent_element.find_elements(By.CSS_SELECTOR, ':scope > div')\n",
    "for ele in info_elements:\n",
    "    ele.find_elements()\n",
    "    # print(ele.get_attribute('outerHTML'))"
   ]
  },
  {
   "cell_type": "code",
   "execution_count": null,
   "metadata": {},
   "outputs": [],
   "source": [
    "print(info_elements[0].find_element(By.CSS_SELECTOR, 'div.rc-collapse-header [class*=\"property-type-collpase_headerTitle\"]').text)\n",
    "print(info_elements[0].find_element(By.CSS_SELECTOR, 'div.rc-collapse-header [class*=\"property-type-collpase_price\"]').text)"
   ]
  },
  {
   "cell_type": "code",
   "execution_count": null,
   "metadata": {},
   "outputs": [],
   "source": [
    "class ElementData:\n",
    "    \n",
    "    @staticmethod\n",
    "    def extract_flats_data():\n",
    "        pass"
   ]
  },
  {
   "cell_type": "code",
   "execution_count": null,
   "metadata": {},
   "outputs": [],
   "source": [
    "def get_text_javascript(ele):\n",
    "    \"\"\"Get text of the element using javascript\n",
    "    This allows getting text even for hidden elements\n",
    "    \"\"\"\n",
    "    return driver.execute_script(\"return arguments[0].textContent;\", ele)"
   ]
  },
  {
   "cell_type": "code",
   "execution_count": null,
   "metadata": {},
   "outputs": [],
   "source": [
    "this_project_data = {}\n",
    "\n",
    "overview_elements = driver.find_elements(By.CSS_SELECTOR, 'main > div > div:nth-child(2) > div > div:nth-child(1) > div > div[class^=\"new-projects-overview\"] [class^=\"new-projects-overview_value\"]')\n",
    "\n",
    "offerings = overview_elements[0].text\n",
    "offerings = list(map(lambda x: x.strip(), offerings.split(' ')))\n",
    "\n",
    "\n",
    "developer = overview_elements[1].text\n",
    "\n",
    "this_project_data['offerings'] = offerings\n",
    "this_project_data['developer'] = developer\n",
    "\n",
    "info_parent_element = driver.find_element(By.CSS_SELECTOR, 'main > div > div:nth-child(2) > div > div:nth-child(2) > div > div')\n",
    "info_elements = info_parent_element.find_elements(By.CSS_SELECTOR, ':scope > div')\n",
    "\n",
    "tile_data = []\n",
    "for info_ele in info_elements:\n",
    "    info_ele_data = {}\n",
    "    # Get type name\n",
    "    \n",
    "    # Open the element and trigger it's loading\n",
    "    info_ele.click()\n",
    "\n",
    "    \n",
    "    time.sleep(random.random()) # Some sleep to ensure loading \n",
    "\n",
    "    type_name = get_text_javascript(info_ele.find_element(By.CSS_SELECTOR, 'div.rc-collapse-header [class*=\"property-type-collpase_headerTitle\"]'))\n",
    "    \n",
    "    # Get price range\n",
    "    price_range = get_text_javascript(info_ele.find_element(By.CSS_SELECTOR, 'div.rc-collapse-header [class*=\"property-type-collpase_price\"]'))\n",
    "    \n",
    "    if type_name.casefold() == 'shops':\n",
    "        continue\n",
    "    #Get the info cards within this type\n",
    "\n",
    "    info_ele_data['type'] = type_name\n",
    "    info_ele_data['price_range'] = price_range\n",
    "\n",
    "    info_cards = info_ele.find_elements(By.CSS_SELECTOR, 'div.rc-collapse-content-box div[class*=\"card_card\"]')\n",
    "            \n",
    "    \n",
    "    # Get info from each card\n",
    "    cards_data_list = []\n",
    "    for card in info_cards:\n",
    "        card_data = {}\n",
    "\n",
    "\n",
    "        # match type_name.casefold():\n",
    "        #     case 'flats':\n",
    "        #         (card_type_ele, card_price_ele) = card.find_elements(By.CSS_SELECTOR, 'div[class*=\"property-type-collpase_cardHeader\"] > div > div')\n",
    "    \n",
    "        #     case _:\n",
    "        #         (card_type_ele, card_price_ele) = card.find_elements(By.CSS_SELECTOR, 'div[class*=\"property-type-collpase_cardHeader\"] > div > div')\n",
    "\n",
    "        (card_type_ele, card_price_ele) = card.find_elements(By.CSS_SELECTOR, 'div[class*=\"property-type-collpase_cardHeader\"] > div > div')\n",
    "        card_type, card_price = get_text_javascript(card_type_ele), get_text_javascript(card_price_ele)\n",
    "\n",
    "        card_data['type'] = card_type\n",
    "        card_data['price'] = card_price\n",
    "\n",
    "        # Info blocks within a card\n",
    "        info_blocks = card.find_elements(By.CSS_SELECTOR, 'div[class*=\"property-type-collpase_infoBlock\"]')\n",
    "        \n",
    "        # A single key would not be repeated within a block\n",
    "        for block in info_blocks:\n",
    "            #property name\n",
    "            property_name = get_text_javascript(block.find_element(By.CSS_SELECTOR, ':scope > div:nth-child(2) div[class*=\"property-type-collpase_key\"]'))\n",
    "            #property value\n",
    "            property_val = get_text_javascript(block.find_element(By.CSS_SELECTOR, ':scope > div:nth-child(2) div[class*=\"property-type-collpase_value\"]'))\n",
    "\n",
    "            card_data[property_name] = property_val\n",
    "\n",
    "        cards_data_list.append(card_data)\n",
    "    \n",
    "    info_ele_data['cards'] = cards_data_list\n",
    "\n",
    "    tile_data.append(info_ele_data)\n",
    "\n",
    "this_project_data['tiles'] = tile_data\n"
   ]
  },
  {
   "cell_type": "code",
   "execution_count": null,
   "metadata": {},
   "outputs": [],
   "source": [
    "this_project_data"
   ]
  },
  {
   "cell_type": "markdown",
   "metadata": {},
   "source": [
    "#### Extract Flats Data"
   ]
  },
  {
   "cell_type": "code",
   "execution_count": null,
   "metadata": {},
   "outputs": [],
   "source": [
    "info_cards = info_elements[1].find_elements(By.CSS_SELECTOR, 'div.rc-collapse-content-box div[class*=\"card_card\"]')\n",
    "# for card in info_cards:\n",
    "#     print(card.get_attribute('outerHTML'))\n",
    "\n",
    "(card_type_ele, card_price_ele) = info_cards[0].find_elements(By.CSS_SELECTOR, 'div[class*=\"property-type-collpase_cardHeader\"] > div > div')\n",
    "\n",
    "\n",
    "print(driver.execute_script(\"return arguments[0].textContent;\", card_type_ele), driver.execute_script(\"return arguments[0].textContent;\", card_price_ele))\n",
    "\n",
    "info_blocks = info_cards[0].find_elements(By.CSS_SELECTOR, 'div[class*=\"property-type-collpase_infoBlock\"]')\n",
    "#property name\n",
    "name_ele = info_blocks[0].find_element(By.CSS_SELECTOR, ':scope > div:nth-child(2) div[class*=\"property-type-collpase_key\"]')\n",
    "#property value\n",
    "price_ele = info_blocks[0].find_element(By.CSS_SELECTOR, ':scope > div:nth-child(2) div[class*=\"property-type-collpase_value\"]')\n",
    "\n",
    "print(driver.execute_script(\"return arguments[0].textContent;\", name_ele))\n",
    "print(driver.execute_script(\"return arguments[0].textContent;\", price_ele))"
   ]
  },
  {
   "cell_type": "markdown",
   "metadata": {},
   "source": [
    "#### Extract Shops Data"
   ]
  },
  {
   "cell_type": "code",
   "execution_count": null,
   "metadata": {},
   "outputs": [],
   "source": [
    "info_cards = info_elements[1].find_elements(By.CSS_SELECTOR, 'div.rc-collapse-content-box div[class*=\"card_card\"]')\n",
    "# for card in info_cards:\n",
    "#     print(card.get_attribute('outerHTML'))\n",
    "# print(info_cards[0].get_attribute('outerHTML'))\n",
    "# info_cards[0].find_elements(By.CSS_SELECTOR, 'div.flex.flexYcenter')\n",
    "\n",
    "# (card_type_ele, card_price_ele) = info_cards[0].find_elements(By.CSS_SELECTOR, 'div.flex.flexYcenter')\n",
    "\n",
    "# card_type_ele.get_attribute('outerHTML')\n",
    "# print(get_text_javascript(card_type_ele))\n",
    "# print(get_text_javascript(card_price_ele))\n",
    "\n",
    "# print(info_cards[0].get_attribute('outerHTML'))\n",
    "card_type_ele = info_cards[0].find_element(By.CSS_SELECTOR, ':scope > div > div:first-child > div > div:first-child')\n",
    "card_price_ele = info_cards[0].find_element(By.CSS_SELECTOR, ':scope > div > div:nth-child(2)')\n",
    "# card_property_ele = info_cards[0].find_element(By.CSS_SELECTOR, ':scope > div > div:first-child > div > div:nth-child(2)')\n",
    "card_property_ele = info_cards[0].find_element(By.CSS_SELECTOR, ':scope > div > div:first-child > div > div:nth-child(2)')\n",
    "\n",
    "get_text_javascript(card_price_ele)\n",
    "\n",
    "\n",
    "# print(driver.execute_script(\"return arguments[0].textContent;\", card_type_ele), driver.execute_script(\"return arguments[0].textContent;\", card_price_ele))\n",
    "\n",
    "\n",
    "# print(info_cards[0].get_attribute('outerHTML'))\n",
    "# info_blocks = info_cards[0].find_elements(By.CSS_SELECTOR, 'div[class*=\"property-type-collpase_infoBlock\"]')\n",
    "\n",
    "# info_blocks[0].get_attribute('outerHTML')\n",
    "# #property name\n",
    "# name_ele = info_blocks[0].find_element(By.CSS_SELECTOR, ':scope > div:nth-child(2) div[class*=\"property-type-collpase_key\"]')\n",
    "# #property value\n",
    "# price_ele = info_blocks[0].find_element(By.CSS_SELECTOR, ':scope > div:nth-child(2) div[class*=\"property-type-collpase_value\"]')\n",
    "\n",
    "# print(driver.execute_script(\"return arguments[0].textContent;\", name_ele))\n",
    "# print(driver.execute_script(\"return arguments[0].textContent;\", price_ele))"
   ]
  },
  {
   "cell_type": "code",
   "execution_count": null,
   "metadata": {},
   "outputs": [],
   "source": [
    "# html_to_file(requests.get(page_url).text, 'city_page_html.html')"
   ]
  },
  {
   "cell_type": "code",
   "execution_count": null,
   "metadata": {},
   "outputs": [],
   "source": []
  }
 ],
 "metadata": {
  "kernelspec": {
   "display_name": "env",
   "language": "python",
   "name": "python3"
  },
  "language_info": {
   "codemirror_mode": {
    "name": "ipython",
    "version": 3
   },
   "file_extension": ".py",
   "mimetype": "text/x-python",
   "name": "python",
   "nbconvert_exporter": "python",
   "pygments_lexer": "ipython3",
   "version": "3.10.5"
  }
 },
 "nbformat": 4,
 "nbformat_minor": 2
}
