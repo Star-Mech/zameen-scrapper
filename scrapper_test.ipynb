{
 "cells": [
  {
   "cell_type": "code",
   "execution_count": null,
   "metadata": {},
   "outputs": [],
   "source": [
    "# !pip install selenium"
   ]
  },
  {
   "cell_type": "code",
   "execution_count": 1,
   "metadata": {},
   "outputs": [],
   "source": [
    "from selenium import webdriver\n",
    "from selenium.webdriver.common.by import By\n",
    "from selenium.webdriver.chrome.webdriver import WebDriver\n",
    "from bs4 import BeautifulSoup\n",
    "import requests\n"
   ]
  },
  {
   "cell_type": "code",
   "execution_count": null,
   "metadata": {},
   "outputs": [],
   "source": [
    "driver = webdriver.Chrome()\n",
    "# Islamabad Page\n",
    "driver.get('https://www.zameen.com/new-projects/islamabad-3-1/')\n",
    "\n",
    "\n",
    "# Get all the anchor tags\n",
    "all_projects_selector = 'main > div > div > div > div > div > a'\n",
    "\n",
    "elements = driver.find_elements(By.CSS_SELECTOR, all_projects_selector)\n"
   ]
  },
  {
   "cell_type": "code",
   "execution_count": null,
   "metadata": {},
   "outputs": [],
   "source": [
    "type(driver)"
   ]
  },
  {
   "cell_type": "markdown",
   "metadata": {},
   "source": [
    "##### Loop through Tags and extract the links"
   ]
  },
  {
   "cell_type": "code",
   "execution_count": null,
   "metadata": {},
   "outputs": [],
   "source": [
    "def html_to_file(html, output_file = 'output.html'):\n",
    "    pretty_soup = BeautifulSoup(html, 'html.parser').prettify()\n",
    "    # Write the BeautifulSoup object to an HTML file\n",
    "    with open(output_file, 'w', encoding='utf-8') as file:\n",
    "        file.write(pretty_soup)"
   ]
  },
  {
   "cell_type": "markdown",
   "metadata": {},
   "source": [
    "1. Get Links for all the pages projects in the City\n",
    "    TO Do this, Open the city page, get all the links,\n",
    "    Do this till gone through all the pages of a city.\n",
    "2. Then open these links in selenium one by page, and gather information for each project"
   ]
  },
  {
   "cell_type": "code",
   "execution_count": null,
   "metadata": {},
   "outputs": [],
   "source": [
    "url = f'https://www.zameen.com/new-projects/islamabad-3-1/'\n",
    "response = requests.get(url)\n",
    "soup = BeautifulSoup(response.text, 'html.parser')\n",
    "\n",
    "offering_divs = soup.select(\"main > div > div > div > div > div > a\")\n",
    "\n",
    "offering_divs\n"
   ]
  },
  {
   "cell_type": "code",
   "execution_count": null,
   "metadata": {},
   "outputs": [],
   "source": [
    "urls = [ele.get('href') for ele in offering_divs]"
   ]
  },
  {
   "cell_type": "code",
   "execution_count": null,
   "metadata": {},
   "outputs": [],
   "source": [
    "class City:\n",
    "    def __init__(self, url) -> None:\n",
    "        self.url = url\n",
    "    \n",
    "    def _get_total_pages(self):\n",
    "        response = requests.get(self.url)\n",
    "        soup = BeautifulSoup(response.text)\n",
    "\n",
    "        total_pages = int(soup.select_one('ul[aria-label=\"Pagination\"] > li:nth-last-child(2) > a').text)\n",
    "\n",
    "        return total_pages\n",
    "\n",
    "    def get_all_project_links(self):\n",
    "        \n",
    "        city_project_urls = []\n",
    "        total_pages = self._get_total_pages()\n",
    "\n",
    "        for page in range(1, total_pages+1):\n",
    "            response = requests.get(f'https://www.zameen.com/new-projects/islamabad-3-1/?page={page}')\n",
    "            soup = BeautifulSoup(response.text)\n",
    "            proj_tags = soup.select(\"main > div > div > div > div > div > a\")\n",
    "            urls = [ele.get('href') for ele in proj_tags]\n",
    "            city_project_urls.extend(urls)\n",
    "\n",
    "        return city_project_urls\n",
    "    \n",
    "    def scrap(self):\n",
    "        pass\n",
    "        "
   ]
  },
  {
   "cell_type": "code",
   "execution_count": 3,
   "metadata": {},
   "outputs": [],
   "source": [
    "city_soup = BeautifulSoup(requests.get('https://www.zameen.com/new-projects/islamabad-3-1/').text)"
   ]
  },
  {
   "cell_type": "code",
   "execution_count": 4,
   "metadata": {},
   "outputs": [
    {
     "data": {
      "text/plain": [
       "24"
      ]
     },
     "execution_count": 4,
     "metadata": {},
     "output_type": "execute_result"
    }
   ],
   "source": [
    "# There is only a single ul having area-label of Pagination\n",
    "total_pages = int(city_soup.select_one('ul[aria-label=\"Pagination\"] > li:nth-last-child(2) > a').text)\n",
    "total_pages"
   ]
  },
  {
   "cell_type": "code",
   "execution_count": 5,
   "metadata": {},
   "outputs": [
    {
     "data": {
      "text/plain": [
       "range(1, 25)"
      ]
     },
     "execution_count": 5,
     "metadata": {},
     "output_type": "execute_result"
    }
   ],
   "source": [
    "range(1, total_pages+1)"
   ]
  },
  {
   "cell_type": "code",
   "execution_count": 6,
   "metadata": {},
   "outputs": [],
   "source": [
    "city_project_urls = []\n",
    "for page in range(1, total_pages+1):\n",
    "    response = requests.get(f'https://www.zameen.com/new-projects/islamabad-3-1/?page={page}')\n",
    "    soup = BeautifulSoup(response.text)\n",
    "    proj_tags = soup.select(\"main > div > div > div > div > div > a\")\n",
    "    urls = [ele.get('href') for ele in proj_tags]\n",
    "    city_project_urls.extend(urls)"
   ]
  },
  {
   "cell_type": "code",
   "execution_count": 7,
   "metadata": {},
   "outputs": [
    {
     "data": {
      "text/plain": [
       "['/new-projects/grand_orchard-2275/',\n",
       " '/new-projects/airport_enclave_villas-2434/',\n",
       " '/new-projects/360_the_residences-2241/',\n",
       " '/new-projects/pearl_square_residency-2302/',\n",
       " '/new-projects/rjs_lifestyle_residences-2024/',\n",
       " '/new-projects/rjs_square-2269/',\n",
       " '/new-projects/sparco_tower-2280/',\n",
       " '/new-projects/jasmine_suites-2296/',\n",
       " '/new-projects/river_hills_5-2226/',\n",
       " '/new-projects/nova_city-2250/',\n",
       " '/new-projects/hyde_park_one-2148/',\n",
       " '/new-projects/grande_palladium-2090/',\n",
       " '/new-projects/roman_grove-1940/',\n",
       " '/new-projects/zameen_ace_mall-1623/',\n",
       " '/new-projects/zameen_ace_homes-1694/',\n",
       " '/new-projects/_safa_burj_mall_-476/',\n",
       " '/new-projects/ideas_one-1076/',\n",
       " '/new-projects/pavilion_17-2428/',\n",
       " '/new-projects/tower_4-2338/',\n",
       " '/new-projects/nora_residences-2348/',\n",
       " '/new-projects/cloud_tower_1-2255/',\n",
       " '/new-projects/al_karim_residence-2233/',\n",
       " '/new-projects/royal_mall_and_residency-913/',\n",
       " '/new-projects/citadel_7-2205/',\n",
       " '/new-projects/zeta_1_mall-1891/',\n",
       " '/new-projects/emirates_mall_&_residency-2186/',\n",
       " '/new-projects/elanza_mall_&_residency-2183/',\n",
       " '/new-projects/deans_apartments-720/',\n",
       " '/new-projects/agro_farming_scheme-387/',\n",
       " '/new-projects/mall_viii-2176/',\n",
       " '/new-projects/infinity_business_center_(ibc)-2175/',\n",
       " '/new-projects/jan_arcade-2158/',\n",
       " '/new-projects/_the_cosmos_heights-2157/',\n",
       " '/new-projects/whispering_pines-2012/',\n",
       " '/new-projects/5_west-2177/',\n",
       " '/new-projects/gulberg_smart_lifestyle-2178/',\n",
       " '/new-projects/karakoram_greens-1309/',\n",
       " '/new-projects/smart_villas-1524/',\n",
       " '/new-projects/al_makkah_city-1908/',\n",
       " '/new-projects/gevora_international_hotel_&_mall-2104/',\n",
       " '/new-projects/farooq_business_center-2109/',\n",
       " '/new-projects/ataas_heights_ii-2116/',\n",
       " '/new-projects/j7_emporium-1970/',\n",
       " '/new-projects/bahria_enclave_heights-2038/',\n",
       " '/new-projects/the_heights_by_eighteen-1693/',\n",
       " '/new-projects/the_villas_by_eighteen-1479/',\n",
       " '/new-projects/kmk_towers-2047/',\n",
       " '/new-projects/capital_icon_mall_&_residency-1209/',\n",
       " '/new-projects/mrk_heights-1999/',\n",
       " '/new-projects/elite_arcade-1971/',\n",
       " '/new-projects/orion_business_square-1959/',\n",
       " '/new-projects/zam_zam_heights_ii-638/',\n",
       " '/new-projects/blessings_mall-1950/',\n",
       " '/new-projects/karsaaz_villas-1483/',\n",
       " '/new-projects/dha_islamabad-1943/',\n",
       " '/new-projects/golf_vista-1894/',\n",
       " '/new-projects/the_magnus-1424/',\n",
       " '/new-projects/blessing_tower-1841/',\n",
       " '/new-projects/prism_heights_gulberg-1722/',\n",
       " '/new-projects/airport_green_gardens-1743/',\n",
       " '/new-projects/aryan_enclave-1779/',\n",
       " '/new-projects/d8_heights-1757/',\n",
       " '/new-projects/marina-1770/',\n",
       " '/new-projects/skylite_arcade-1756/',\n",
       " '/new-projects/pavilion_1-1734/',\n",
       " '/new-projects/gulberg_pride-1660/',\n",
       " '/new-projects/skypark_one-1735/',\n",
       " '/new-projects/aries_tower_islamabad-1712/',\n",
       " '/new-projects/lavish_arcade-1637/',\n",
       " '/new-projects/the_arcadia-1719/',\n",
       " '/new-projects/motorway_city_executive_block-1589/',\n",
       " '/new-projects/capital_heights-1579/',\n",
       " '/new-projects/cbr_residencia-1421/',\n",
       " '/new-projects/the_centrium-909/',\n",
       " '/new-projects/montviro-1429/',\n",
       " '/new-projects/zainab_villas-1710/',\n",
       " '/new-projects/gulberg_twin_towers-1659/',\n",
       " '/new-projects/capital_mall_&_residency-1313/',\n",
       " '/new-projects/de_grand_arcade-1669/',\n",
       " '/new-projects/royal_century_tower-1602/',\n",
       " '/new-projects/opal_square_-1595/',\n",
       " '/new-projects/juniper_villas-1642/',\n",
       " '/new-projects/bahria_garden_city-1582/',\n",
       " '/new-projects/prime_arcade-1535/',\n",
       " '/new-projects/al_faisal_enclave-968/',\n",
       " '/new-projects/sukh_chayn_residence-1477/',\n",
       " '/new-projects/786_arcade-1621/',\n",
       " '/new-projects/the_aquatic_mall-1565/',\n",
       " '/new-projects/kazani_heights-1577/',\n",
       " '/new-projects/tulip-1583/',\n",
       " '/new-projects/canyon_views-189/',\n",
       " '/new-projects/ideas_tower-1564/',\n",
       " '/new-projects/ecstasy_park_luxury_apartments-1552/',\n",
       " '/new-projects/lavish_villas-1566/',\n",
       " '/new-projects/avenue_villas-1522/',\n",
       " '/new-projects/capital_trade_centre-1560/',\n",
       " '/new-projects/alpha_tower-1533/',\n",
       " '/new-projects/madina_mall_&_residency-1235/',\n",
       " '/new-projects/lifestyle_residency-777/',\n",
       " '/new-projects/galaxy_centre-1415/',\n",
       " '/new-projects/islamabad_co_operative_housing_-498/',\n",
       " '/new-projects/the_arch-1511/',\n",
       " '/new-projects/daiwal_icon-1509/',\n",
       " '/new-projects/gulf_trade_center-1472/',\n",
       " '/new-projects/js_mall_top_city_1-2390/',\n",
       " '/new-projects/the_lodges-2357/',\n",
       " '/new-projects/golden_square-2080/',\n",
       " '/new-projects/safa_golden_oaks_residence_&_mall_-2014/',\n",
       " '/new-projects/skylite_business_center-1900/',\n",
       " '/new-projects/al_qaddar_enclave-1878/',\n",
       " '/new-projects/dream_oaks_arcade-1482/',\n",
       " '/new-projects/defence_view_mall-1463/',\n",
       " '/new-projects/rania_heights-1440/',\n",
       " '/new-projects/tauheed_enclave-1431/',\n",
       " '/new-projects/al_faroogh_heights_4-1428/',\n",
       " '/new-projects/premium_square-1407/',\n",
       " '/new-projects/b_square-1404/',\n",
       " '/new-projects/rabi_royal_mall-1395/',\n",
       " '/new-projects/kiyani_town_phase_3-1387/',\n",
       " '/new-projects/qazi_mall-1354/',\n",
       " '/new-projects/makkah_heights-1331/',\n",
       " '/new-projects/creek_heights-1308/',\n",
       " '/new-projects/sapphire_arcade-1303/',\n",
       " '/new-projects/sapphire_heights-1299/',\n",
       " '/new-projects/pakland_business_center-1286/',\n",
       " '/new-projects/khayaban_e_kashmir-1282/',\n",
       " '/new-projects/cordoba_heights-1278/',\n",
       " '/new-projects/tower_45-1262/',\n",
       " '/new-projects/pine_business_square-1243/',\n",
       " '/new-projects/galleria_islamabad-1228/',\n",
       " '/new-projects/pakland_medical_center-1177/',\n",
       " '/new-projects/khudadad_heights-1146/',\n",
       " '/new-projects/zara_heights-1144/',\n",
       " '/new-projects/aimal_tower-1112/',\n",
       " '/new-projects/the_gate_mall_&_apartments-1105/',\n",
       " '/new-projects/al_harmain_center-1101/',\n",
       " '/new-projects/al_cazar_heights-1046/',\n",
       " '/new-projects/lucky_lake_view_heights-1033/',\n",
       " '/new-projects/gulberg_emporium_mall_&_residency-1027/',\n",
       " '/new-projects/horizon_one-1024/',\n",
       " '/new-projects/chughtai_arcade_ii-1020/',\n",
       " '/new-projects/al_taqwa_shopping_mall-1019/',\n",
       " '/new-projects/capital_business_avenue-1016/',\n",
       " '/new-projects/capital_square-1008/',\n",
       " '/new-projects/jayson_mall-1004/',\n",
       " '/new-projects/al_nafy_multi_banglows-993/',\n",
       " '/new-projects/inertia_shopping_mall_&_residency-990/',\n",
       " '/new-projects/soan_arcade-978/',\n",
       " '/new-projects/sunset_homes-975/',\n",
       " '/new-projects/hill_view_green_villas-960/',\n",
       " '/new-projects/razia_complex-944/',\n",
       " '/new-projects/crown_business_center-946/',\n",
       " '/new-projects/islamabad_villas-943/',\n",
       " '/new-projects/tanveer_villas-940/',\n",
       " '/new-projects/meher_apartments-941/',\n",
       " '/new-projects/margalla_villas-938/',\n",
       " '/new-projects/paradise_villa_apartments-939/',\n",
       " '/new-projects/capital_business_center-937/',\n",
       " '/new-projects/d_mall-931/',\n",
       " '/new-projects/khushal_heights-932/',\n",
       " '/new-projects/royal_corporate_center-925/',\n",
       " '/new-projects/diamond_mall_&_residency-914/',\n",
       " '/new-projects/hillock_view_residence-908/',\n",
       " '/new-projects/oxygen_heights-905/',\n",
       " '/new-projects/mmanat_residencia-902/',\n",
       " '/new-projects/ace_arcade-884/',\n",
       " '/new-projects/royal_grace_villas-886/',\n",
       " '/new-projects/pakland_square-887/',\n",
       " '/new-projects/margalla_vista-878/',\n",
       " '/new-projects/city_villas-875/',\n",
       " '/new-projects/al_maskan_heights-857/',\n",
       " '/new-projects/vision_arcade_gulberg-831/',\n",
       " '/new-projects/gandhara_city-825/',\n",
       " '/new-projects/prime_heights-826/',\n",
       " '/new-projects/elysium_mall-810/',\n",
       " '/new-projects/razia_terrace-788/',\n",
       " '/new-projects/crown_classic-789/',\n",
       " '/new-projects/ovais_co_heights-776/',\n",
       " '/new-projects/capital_resorts-774/',\n",
       " '/new-projects/new_islamabad_garden_housing_scheme-775/',\n",
       " '/new-projects/mengal_heights-752/',\n",
       " '/new-projects/hamdan_heights-754/',\n",
       " '/new-projects/capital_garden-749/',\n",
       " '/new-projects/gulberg_dream_villas-750/',\n",
       " '/new-projects/heaven_homes-744/',\n",
       " '/new-projects/mirak_arcade-735/',\n",
       " '/new-projects/luxus_mall_and_residency-716/',\n",
       " '/new-projects/capital_residencia-713/',\n",
       " '/new-projects/win_win_mall-714/',\n",
       " '/new-projects/the_olympus_mall-703/',\n",
       " '/new-projects/palm_villas-699/',\n",
       " '/new-projects/crescent_arcade-697/',\n",
       " '/new-projects/capital_villas-688/',\n",
       " '/new-projects/rayyan_residency-670/',\n",
       " '/new-projects/al_sahib_heights-678/',\n",
       " '/new-projects/madina_tower-665/',\n",
       " '/new-projects/mirador-640/',\n",
       " '/new-projects/alain_multi_villas-635/',\n",
       " '/new-projects/avalon_residencia-627/',\n",
       " '/new-projects/the_shopping_mall-617/',\n",
       " '/new-projects/caledonia_luxury_apartments-612/',\n",
       " '/new-projects/icon_garden-607/',\n",
       " '/new-projects/mian_heights_1-610/',\n",
       " '/new-projects/lake_view_residency-603/',\n",
       " '/new-projects/el_cielo-595/',\n",
       " '/new-projects/ascon_height-596/',\n",
       " '/new-projects/saif_gold_tower-597/',\n",
       " '/new-projects/gulberg_business_center-593/',\n",
       " '/new-projects/elegance_towers-581/',\n",
       " '/new-projects/park_place-576/',\n",
       " '/new-projects/marvel_arcade-569/',\n",
       " '/new-projects/fazaia_housing_scheme-562/',\n",
       " '/new-projects/the_jinnah_emporium-563/',\n",
       " '/new-projects/roshan_heights-541/',\n",
       " '/new-projects/roshan_enclave-542/',\n",
       " '/new-projects/shaheen_fazaia_housing_scehme-536/',\n",
       " '/new-projects/such_&_such_fazaia_housing_scheme-538/',\n",
       " '/new-projects/the_atrium-539/',\n",
       " '/new-projects/executive_arcade-520/',\n",
       " '/new-projects/islamabad_green_traders_valley-518/',\n",
       " '/new-projects/park_town-513/',\n",
       " '/new-projects/canterbury_enclave-496/',\n",
       " '/new-projects/shangrila_comforts-467/',\n",
       " '/new-projects/the_atlantis_mall-446/',\n",
       " '/new-projects/margalla_oaks-445/',\n",
       " '/new-projects/fortune_destiny-438/',\n",
       " '/new-projects/madina_heights-434/',\n",
       " '/new-projects/the_galleria-437/',\n",
       " '/new-projects/smama_star_mall_&_residency-433/',\n",
       " '/new-projects/ahad_residences-421/',\n",
       " '/new-projects/multi_gardens-419/',\n",
       " '/new-projects/multi_residencia_&_orchards-417/',\n",
       " '/new-projects/shaheen_heights-398/',\n",
       " '/new-projects/mall_of_islamabad-395/',\n",
       " '/new-projects/the_centaurus-392/',\n",
       " '/new-projects/valley_1_shopping_centre-384/',\n",
       " '/new-projects/nexus_arcade_ii-374/',\n",
       " '/new-projects/margalla_hills_ll-371/',\n",
       " '/new-projects/city_square_b_17-367/',\n",
       " '/new-projects/faisal_town-366/',\n",
       " '/new-projects/multi_orchard_villas-359/',\n",
       " '/new-projects/daisy_height-358/',\n",
       " '/new-projects/hm_tower-355/',\n",
       " '/new-projects/executive_complex-350/',\n",
       " '/new-projects/capital_mall-347/',\n",
       " '/new-projects/minara_residence-340/',\n",
       " '/new-projects/apollo_towers-325/',\n",
       " '/new-projects/multi_arcade-327/',\n",
       " '/new-projects/the_veranda_residence-301/',\n",
       " '/new-projects/defence_executive_apartments-293/',\n",
       " '/new-projects/eden_life-292/',\n",
       " '/new-projects/gulberg_trade_center-291/',\n",
       " '/new-projects/mpchs-290/',\n",
       " '/new-projects/magnum_arcade_ll-289/',\n",
       " '/new-projects/khyber_plaza_3-286/',\n",
       " '/new-projects/emirates_golden_palms-287/',\n",
       " '/new-projects/commoner%E2%80%99s_sky_garden-281/',\n",
       " '/new-projects/islamabad_view_valley-280/',\n",
       " '/new-projects/fortune_lakeview_residency-278/',\n",
       " '/new-projects/shahs_arcade-266/',\n",
       " '/new-projects/heaven_residence-258/',\n",
       " '/new-projects/abdullah_heights-239/',\n",
       " '/new-projects/pine_heights_luxury_apartments-232/',\n",
       " '/new-projects/ahmed_town-224/',\n",
       " '/new-projects/ace_avenue-223/',\n",
       " '/new-projects/washma_center-221/',\n",
       " '/new-projects/islamabad_enclave-216/',\n",
       " '/new-projects/gulberg_greens-212/',\n",
       " '/new-projects/green_city-178/',\n",
       " '/new-projects/vertex_villas_(on_installments)_in_bahria_enclave-174/',\n",
       " '/new-projects/airline_avenue-172/',\n",
       " '/new-projects/graceland_housing-171/',\n",
       " '/new-projects/arcadia_city-169/',\n",
       " '/new-projects/pakistan_employees_cooperative_housing_society-168/',\n",
       " '/new-projects/fortune_empire-163/',\n",
       " '/new-projects/defence_tower-155/',\n",
       " '/new-projects/gulberg_islamabad-149/',\n",
       " '/new-projects/the_onyx-151/',\n",
       " '/new-projects/the_springs-145/']"
      ]
     },
     "execution_count": 7,
     "metadata": {},
     "output_type": "execute_result"
    }
   ],
   "source": [
    "city_project_urls"
   ]
  },
  {
   "cell_type": "code",
   "execution_count": null,
   "metadata": {},
   "outputs": [],
   "source": [
    "class Page:\n",
    "    def __init__(self, url) -> None:\n",
    "        self.url = url\n",
    "\n",
    "    def scrap(self, driver: WebDriver):\n",
    "        driver.get(url)\n",
    "\n",
    "        self._get_overview(driver)\n",
    "\n",
    "    \n",
    "    def _get_overview(self, driver):\n",
    "        overview_elements = driver.find_elements(By.CSS_SELECTOR, 'main > div > div:nth-child(2) > div > div:nth-child(1) > div > div[class^=\"new-projects-overview\"] [class^=\"new-projects-overview_value\"]')\n",
    "\n",
    "        offerings = overview_elements[0].text\n",
    "        offerings = list(map(lambda x: x.strip(), offerings.split(' ')))\n",
    "\n",
    "\n",
    "        developer = overview_elements[1].text\n",
    "    \n",
    "\n",
    "\n",
    "\n",
    "\n",
    "    "
   ]
  },
  {
   "cell_type": "code",
   "execution_count": null,
   "metadata": {},
   "outputs": [],
   "source": [
    "html_to_file(city_soup.select_one('ul[aria-label=\"Pagination\"]').prettify(), 'pagi.html')"
   ]
  },
  {
   "cell_type": "code",
   "execution_count": 23,
   "metadata": {},
   "outputs": [],
   "source": [
    "driver = webdriver.Chrome()\n",
    "\n",
    "proj_base_url = 'https://www.zameen.com'\n",
    "page_url = proj_base_url + city_project_urls[0]\n",
    "driver.get(page_url)\n"
   ]
  },
  {
   "cell_type": "code",
   "execution_count": 24,
   "metadata": {},
   "outputs": [],
   "source": [
    "# driver.find_elements(By.CSS_SELECTOR, 'h2[class*=\"heading\"]')\n",
    "overview_elements = driver.find_elements(By.CSS_SELECTOR, 'main > div > div:nth-child(2) > div > div:nth-child(1) > div > div[class^=\"new-projects-overview\"] [class^=\"new-projects-overview_value\"]')\n",
    "\n",
    "offerings = overview_elements[0].text\n",
    "developer = overview_elements[1].text"
   ]
  },
  {
   "cell_type": "code",
   "execution_count": 25,
   "metadata": {},
   "outputs": [
    {
     "data": {
      "text/plain": [
       "['Flats,', 'Shops']"
      ]
     },
     "execution_count": 25,
     "metadata": {},
     "output_type": "execute_result"
    }
   ],
   "source": [
    "list(map(lambda x: x.strip(), offerings.split(' ')))"
   ]
  },
  {
   "cell_type": "code",
   "execution_count": 26,
   "metadata": {},
   "outputs": [
    {
     "data": {
      "text/plain": [
       "'<div class=\"rc-collapse property-type-collpase_collapseProjects__1EAfU\" style=\"margin-inline:\"><div class=\"rc-collapse-item rc-collapse-item-active\" style=\"border-radius:\"><div class=\"rc-collapse-header\" role=\"button\" tabindex=\"0\" aria-expanded=\"true\"><div class=\"property-type-collpase_panelHeader__2EKWc\"><div class=\"space_space__2CSKB space_align-center__2jK7Q\" style=\"gap:16px;flex-wrap:\"><div><svg width=\"1em\" height=\"1em\" viewBox=\"0 0 24 24\" class=\"property-type-collpase_icon__2Wg92 Icon_icon__2_bai\" style=\"--icon-size:1.715em\"><path d=\"m11.228 4.278 8.242-1.261c.383-.06.773.045 1.065.294.293.257.465.627.465 1.013v15.92a.755.755 0 0 1-.75.756h-2.438v-3.967c0-.733-.585-1.322-1.312-1.322h-1.875c-.727 0-1.312.59-1.312 1.322V21h-3.188V5.586c0-.65.465-1.202 1.103-1.308Zm5.647 9.733H18c.31 0 .563-.254.563-.567a.565.565 0 0 0-.563-.567h-1.125a.565.565 0 0 0-.562.567c0 .313.252.567.562.567Zm0-2.267H18c.31 0 .563-.254.563-.567A.565.565 0 0 0 18 10.61h-1.125a.565.565 0 0 0-.562.567c0 .313.252.567.562.567Zm0-2.267H18c.31 0 .563-.254.563-.567A.565.565 0 0 0 18 8.344h-1.125a.565.565 0 0 0-.562.566c0 .313.252.567.562.567Zm0-2.267H18c.31 0 .563-.254.563-.566A.565.565 0 0 0 18 6.077h-1.125a.565.565 0 0 0-.562.567c0 .312.252.566.562.566Zm-3.75 6.8h1.125c.31 0 .563-.253.563-.566a.565.565 0 0 0-.563-.567h-1.125a.565.565 0 0 0-.562.567c0 .313.252.567.562.567Zm0-2.266h1.125c.31 0 .563-.254.563-.567a.565.565 0 0 0-.563-.567h-1.125a.565.565 0 0 0-.562.567c0 .313.252.567.562.567Zm0-2.267h1.125c.31 0 .563-.254.563-.567a.565.565 0 0 0-.563-.566h-1.125a.565.565 0 0 0-.562.566c0 .313.252.567.562.567Zm0-2.267h1.125c.31 0 .563-.254.563-.566a.565.565 0 0 0-.563-.567h-1.125a.565.565 0 0 0-.562.567c0 .312.252.566.562.566Z\" fill=\"#00A651\" fill-opacity=\"0.5\"></path><path d=\"m4.035 11.058 5.34-1.127V21H4.312A1.319 1.319 0 0 1 3 19.677V12.35c0-.624.422-1.156 1.035-1.292Zm1.777 7.675h1.125c.31 0 .563-.254.563-.567a.565.565 0 0 0-.563-.566H5.812a.565.565 0 0 0-.562.566c0 .313.252.567.562.567Zm0-2.267h1.125c.31 0 .563-.254.563-.566a.565.565 0 0 0-.563-.567H5.812a.565.565 0 0 0-.562.567c0 .312.252.566.562.566Zm0-2.267h1.125c.31 0 .563-.253.563-.566a.565.565 0 0 0-.563-.567H5.812a.565.565 0 0 0-.562.567c0 .313.252.567.562.567Z\" fill=\"#7ED8AA\" fill-opacity=\"0.5\"></path></svg></div><div><div><div class=\"u-spbwx12 flex flexYcenter\"><div class=\"property-type-collpase_headerTitle__1qE0F\">Flats</div></div></div></div></div><div class=\"space_space__2CSKB space_align-center__2jK7Q\" style=\"gap:8px;flex-wrap:wrap\"><div><div class=\"property-type-collpase_price__2sVVI\"><small>PKR</small> <!-- -->1.03 Crore to 10.22 Crore</div></div><div><svg stroke=\"currentColor\" fill=\"currentColor\" stroke-width=\"0\" viewBox=\"0 0 512 512\" class=\"property-type-collpase_caret__lcc38 flex-none\" height=\"1em\" width=\"1em\" xmlns=\"http://www.w3.org/2000/svg\"><path d=\"M98 190.06l139.78 163.12a24 24 0 0036.44 0L414 190.06c13.34-15.57 2.28-39.62-18.22-39.62h-279.6c-20.5 0-31.56 24.05-18.18 39.62z\"></path></svg></div></div></div></div><div class=\"rc-collapse-content rc-collapse-content-active\"><div class=\"rc-collapse-content-box\"><div class=\"group_grid__h9Tre\" style=\"--gap:16px\"><div class=\"card_card__3KEPg property-type-collpase_cardContents__2KvST card_border__2siZ1\" style=\"--padding:24px\"><div class=\"property-type-collpase_cardHeader__1JrW0\"><div class=\"space_spaceFlex__35XH1 space_align-baseline__2zLhO space_justify-space-between__2vruQ\" style=\"gap:16px;flex-wrap:\"><div><div class=\"flex flexYcenter\" style=\"gap:10px\"><div>Apartment</div></div></div><div><div class=\"property-type-collpase_price__2sVVI\"><small>PKR </small>1.03 Crore to 1.67 Crore</div></div></div></div><div class=\"group_grid__h9Tre\" style=\"--template:repeat(auto-fill, minmax(min(22ch, 100%), 1fr))\"><div class=\"property-type-collpase_infoBlock__1pJQ9 space_space__2CSKB space_align-start__apUk4\" style=\"gap:16px;flex-wrap:\"><div><div class=\"Icon_hasBackground__3OKgm\" style=\"--icon-bg: #effdf5; --icon-bg-size: 2rem;\"><svg width=\"1em\" height=\"1em\" viewBox=\"0 0 24 24\" class=\"Icon_icon__2_bai\" style=\"--icon-size:1.2em;--icon-color:#7ed8aa\" bgstyle=\"[object Object]\" color=\"#7ed8aa\" bgStyle=\"[object Object]\"><path d=\"M11.742 16.868v1.201H5.453v-1.201a.632.632 0 0 0-.181-.444.615.615 0 0 0-.674-.136.616.616 0 0 0-.2.137l-2.211 2.247a.621.621 0 0 0-.187.44.631.631 0 0 0 .176.444l.01.012 2.219 2.248a.614.614 0 0 0 .874 0 .637.637 0 0 0 .18-.442v-1.202h6.278v1.201a.63.63 0 0 0 .18.444.614.614 0 0 0 .875 0l2.211-2.25a.631.631 0 0 0 0-.885l-2.211-2.257a.62.62 0 0 0-.437-.184.611.611 0 0 0-.437.184.633.633 0 0 0-.176.443Zm5.205-11.373h1.186v6.37h-1.186a.608.608 0 0 0-.435.185.625.625 0 0 0-.178.444c0 .165.066.323.181.44l2.212 2.241a.616.616 0 0 0 .874 0l2.218-2.241a.631.631 0 0 0-.2-1.022.608.608 0 0 0-.237-.048h-1.185v-6.37h1.185a.614.614 0 0 0 .437-.183.631.631 0 0 0 0-.886L19.6 2.184a.614.614 0 0 0-.874 0l-2.212 2.241a.625.625 0 0 0-.133.681.625.625 0 0 0 .565.389Zm-4.843 8.678H4.098a1.984 1.984 0 0 1-1.41-.593 2.04 2.04 0 0 1-.586-1.429v-8.13c0-.535.21-1.05.585-1.429S3.57 2 4.098 2h8.015c.529 0 1.036.213 1.41.593.374.379.584.893.585 1.429v8.124a2.048 2.048 0 0 1-.586 1.434 1.996 1.996 0 0 1-1.418.593ZM4.09 3.727a.296.296 0 0 0-.21.088.304.304 0 0 0-.088.214v8.124a.304.304 0 0 0 .184.278.291.291 0 0 0 .114.022h8.014a.291.291 0 0 0 .21-.087.301.301 0 0 0 .088-.213V4.022a.304.304 0 0 0-.087-.214.296.296 0 0 0-.21-.088l-8.015.007Z\"></path></svg></div></div><div><div class=\"space_space__2CSKB space_align-start__apUk4 space_vertical__3cT8e\" style=\"gap:4px;flex-wrap:\"><div><div class=\"property-type-collpase_key__1Cu4c\">Area Size </div></div><div><div class=\"property-type-collpase_value__KXE2n\">2.23 - 3.61<!-- --> <!-- -->marla</div></div></div></div></div><div class=\"property-type-collpase_infoBlock__1pJQ9 space_space__2CSKB space_align-start__apUk4\" style=\"gap:16px;flex-wrap:\"><div><div class=\"Icon_hasBackground__3OKgm\" style=\"--icon-bg: #effdf5; --icon-bg-size: 2rem;\"><svg width=\"1em\" height=\"1em\" viewBox=\"0 0 14 13\" fill=\"none\" class=\"Icon_icon__2_bai\" style=\"--icon-size:1.2em;--icon-color:#7ed8aa\" bgstyle=\"[object Object]\" color=\"#7ed8aa\" bgStyle=\"[object Object]\"><path fill=\"#7ed8aa\" d=\"M11.986 5.876V2.248A2.3 2.3 0 0 0 11.229.69 2.192 2.192 0 0 0 9.62.134a2.044 2.044 0 0 0-1.44.552 2.144 2.144 0 0 0-.673 1.417H6.7a.476.476 0 0 0-.325.152.5.5 0 0 0 0 .68.476.476 0 0 0 .325.152h2.562a.476.476 0 0 0 .325-.152.5.5 0 0 0 0-.68.476.476 0 0 0-.325-.152H8.47c.044-.284.188-.541.405-.723.217-.181.491-.275.77-.262.328-.033.655.066.913.276.257.21.425.515.467.85v3.632H.937c-.17 0-.333.07-.453.193a.665.665 0 0 0-.187.464v3.281c0 .697.27 1.364.75 1.856a2.53 2.53 0 0 0 1.811.769h7.686c.68 0 1.331-.277 1.811-.769s.75-1.16.75-1.856V6.533a.665.665 0 0 0-.187-.464.634.634 0 0 0-.452-.192l-.48-.001ZM3.819 7.024h3.203v1.8H3.819v-1.8Zm8.166 2.79c-.001.39-.153.766-.423 1.043-.27.276-.637.432-1.019.432H2.857c-.382 0-.748-.156-1.018-.433a1.497 1.497 0 0 1-.422-1.043V7.024h1.441V8.5a1.34 1.34 0 0 0 .375.93 1.279 1.279 0 0 0 .907.383H6.7a1.253 1.253 0 0 0 .907-.384 1.314 1.314 0 0 0 .375-.929V7.024h4.003l-.001 2.79Z\"></path></svg></div></div><div><div class=\"space_space__2CSKB space_align-start__apUk4 space_vertical__3cT8e\" style=\"gap:4px;flex-wrap:\"><div><div class=\"property-type-collpase_key__1Cu4c\">Bathrooms<!-- --> </div></div><div><div class=\"property-type-collpase_value__KXE2n\">1</div></div></div></div></div><div class=\"property-type-collpase_infoBlock__1pJQ9 space_space__2CSKB space_align-start__apUk4\" style=\"gap:16px;flex-wrap:\"><div><div class=\"Icon_hasBackground__3OKgm\" style=\"--icon-bg: #effdf5; --icon-bg-size: 2rem;\"><svg width=\"1em\" height=\"1em\" viewBox=\"0 0 19 19\" class=\"Icon_icon__2_bai\" style=\"--icon-size:1.2em;--icon-color:#7ed8aa\" bgstyle=\"[object Object]\" color=\"#7ed8aa\" bgStyle=\"[object Object]\"><path d=\"M3.733 15.922l-.7-2.058h-1.3v-4.79a1.744 1.744 0 011.736-1.7h.371V3.931a1.745 1.745 0 011.736-1.7h8.435a1.747 1.747 0 011.745 1.7V7.37h.363a1.748 1.748 0 011.747 1.7v4.789h-1.3l-.7 2.058h-.542l-.7-2.058H4.969l-.7 2.058zm-.617-3.408h13.367v-3.8H3.116zm7.376-5.146h3.883V3.573h-3.883zm-5.268 0h3.887V3.573H5.223z\"></path><path d=\"M3.752 15.899l-.7-2.058H1.756V9.076a1.721 1.721 0 011.712-1.677h.394V3.932a1.721 1.721 0 011.713-1.683h8.439a1.724 1.724 0 011.721 1.681v3.463h.387a1.724 1.724 0 011.722 1.681v4.764h-1.291l-.7 2.058h-.507l-.7-2.058H4.952l-.7 2.061zm-.66-3.359h13.414V8.696H3.092zm7.376-5.146H14.4V3.55h-3.932zm-5.268 0h3.932V3.55H5.199z\"></path></svg></div></div><div><div class=\"space_space__2CSKB space_align-start__apUk4 space_vertical__3cT8e\" style=\"gap:4px;flex-wrap:\"><div><div class=\"property-type-collpase_key__1Cu4c\">Bedrooms<!-- --> </div></div><div><div class=\"property-type-collpase_value__KXE2n\">–</div></div></div></div></div></div></div><div class=\"card_card__3KEPg property-type-collpase_cardContents__2KvST card_border__2siZ1\" style=\"--padding:24px\"><div class=\"property-type-collpase_cardHeader__1JrW0\"><div class=\"space_spaceFlex__35XH1 space_align-baseline__2zLhO space_justify-space-between__2vruQ\" style=\"gap:16px;flex-wrap:\"><div><div class=\"flex flexYcenter\" style=\"gap:10px\"><div>Apartment</div></div></div><div><div class=\"property-type-collpase_price__2sVVI\"><small>PKR </small>2.13 Crore to 3.78 Crore</div></div></div></div><div class=\"group_grid__h9Tre\" style=\"--template:repeat(auto-fill, minmax(min(22ch, 100%), 1fr))\"><div class=\"property-type-collpase_infoBlock__1pJQ9 space_space__2CSKB space_align-start__apUk4\" style=\"gap:16px;flex-wrap:\"><div><div class=\"Icon_hasBackground__3OKgm\" style=\"--icon-bg: #effdf5; --icon-bg-size: 2rem;\"><svg width=\"1em\" height=\"1em\" viewBox=\"0 0 24 24\" class=\"Icon_icon__2_bai\" style=\"--icon-size:1.2em;--icon-color:#7ed8aa\" bgstyle=\"[object Object]\" color=\"#7ed8aa\" bgStyle=\"[object Object]\"><path d=\"M11.742 16.868v1.201H5.453v-1.201a.632.632 0 0 0-.181-.444.615.615 0 0 0-.674-.136.616.616 0 0 0-.2.137l-2.211 2.247a.621.621 0 0 0-.187.44.631.631 0 0 0 .176.444l.01.012 2.219 2.248a.614.614 0 0 0 .874 0 .637.637 0 0 0 .18-.442v-1.202h6.278v1.201a.63.63 0 0 0 .18.444.614.614 0 0 0 .875 0l2.211-2.25a.631.631 0 0 0 0-.885l-2.211-2.257a.62.62 0 0 0-.437-.184.611.611 0 0 0-.437.184.633.633 0 0 0-.176.443Zm5.205-11.373h1.186v6.37h-1.186a.608.608 0 0 0-.435.185.625.625 0 0 0-.178.444c0 .165.066.323.181.44l2.212 2.241a.616.616 0 0 0 .874 0l2.218-2.241a.631.631 0 0 0-.2-1.022.608.608 0 0 0-.237-.048h-1.185v-6.37h1.185a.614.614 0 0 0 .437-.183.631.631 0 0 0 0-.886L19.6 2.184a.614.614 0 0 0-.874 0l-2.212 2.241a.625.625 0 0 0-.133.681.625.625 0 0 0 .565.389Zm-4.843 8.678H4.098a1.984 1.984 0 0 1-1.41-.593 2.04 2.04 0 0 1-.586-1.429v-8.13c0-.535.21-1.05.585-1.429S3.57 2 4.098 2h8.015c.529 0 1.036.213 1.41.593.374.379.584.893.585 1.429v8.124a2.048 2.048 0 0 1-.586 1.434 1.996 1.996 0 0 1-1.418.593ZM4.09 3.727a.296.296 0 0 0-.21.088.304.304 0 0 0-.088.214v8.124a.304.304 0 0 0 .184.278.291.291 0 0 0 .114.022h8.014a.291.291 0 0 0 .21-.087.301.301 0 0 0 .088-.213V4.022a.304.304 0 0 0-.087-.214.296.296 0 0 0-.21-.088l-8.015.007Z\"></path></svg></div></div><div><div class=\"space_space__2CSKB space_align-start__apUk4 space_vertical__3cT8e\" style=\"gap:4px;flex-wrap:\"><div><div class=\"property-type-collpase_key__1Cu4c\">Area Size </div></div><div><div class=\"property-type-collpase_value__KXE2n\">4.61 - 8.2<!-- --> <!-- -->marla</div></div></div></div></div><div class=\"property-type-collpase_infoBlock__1pJQ9 space_space__2CSKB space_align-start__apUk4\" style=\"gap:16px;flex-wrap:\"><div><div class=\"Icon_hasBackground__3OKgm\" style=\"--icon-bg: #effdf5; --icon-bg-size: 2rem;\"><svg width=\"1em\" height=\"1em\" viewBox=\"0 0 14 13\" fill=\"none\" class=\"Icon_icon__2_bai\" style=\"--icon-size:1.2em;--icon-color:#7ed8aa\" bgstyle=\"[object Object]\" color=\"#7ed8aa\" bgStyle=\"[object Object]\"><path fill=\"#7ed8aa\" d=\"M11.986 5.876V2.248A2.3 2.3 0 0 0 11.229.69 2.192 2.192 0 0 0 9.62.134a2.044 2.044 0 0 0-1.44.552 2.144 2.144 0 0 0-.673 1.417H6.7a.476.476 0 0 0-.325.152.5.5 0 0 0 0 .68.476.476 0 0 0 .325.152h2.562a.476.476 0 0 0 .325-.152.5.5 0 0 0 0-.68.476.476 0 0 0-.325-.152H8.47c.044-.284.188-.541.405-.723.217-.181.491-.275.77-.262.328-.033.655.066.913.276.257.21.425.515.467.85v3.632H.937c-.17 0-.333.07-.453.193a.665.665 0 0 0-.187.464v3.281c0 .697.27 1.364.75 1.856a2.53 2.53 0 0 0 1.811.769h7.686c.68 0 1.331-.277 1.811-.769s.75-1.16.75-1.856V6.533a.665.665 0 0 0-.187-.464.634.634 0 0 0-.452-.192l-.48-.001ZM3.819 7.024h3.203v1.8H3.819v-1.8Zm8.166 2.79c-.001.39-.153.766-.423 1.043-.27.276-.637.432-1.019.432H2.857c-.382 0-.748-.156-1.018-.433a1.497 1.497 0 0 1-.422-1.043V7.024h1.441V8.5a1.34 1.34 0 0 0 .375.93 1.279 1.279 0 0 0 .907.383H6.7a1.253 1.253 0 0 0 .907-.384 1.314 1.314 0 0 0 .375-.929V7.024h4.003l-.001 2.79Z\"></path></svg></div></div><div><div class=\"space_space__2CSKB space_align-start__apUk4 space_vertical__3cT8e\" style=\"gap:4px;flex-wrap:\"><div><div class=\"property-type-collpase_key__1Cu4c\">Bathrooms<!-- --> </div></div><div><div class=\"property-type-collpase_value__KXE2n\">1</div></div></div></div></div><div class=\"property-type-collpase_infoBlock__1pJQ9 space_space__2CSKB space_align-start__apUk4\" style=\"gap:16px;flex-wrap:\"><div><div class=\"Icon_hasBackground__3OKgm\" style=\"--icon-bg: #effdf5; --icon-bg-size: 2rem;\"><svg width=\"1em\" height=\"1em\" viewBox=\"0 0 19 19\" class=\"Icon_icon__2_bai\" style=\"--icon-size:1.2em;--icon-color:#7ed8aa\" bgstyle=\"[object Object]\" color=\"#7ed8aa\" bgStyle=\"[object Object]\"><path d=\"M3.733 15.922l-.7-2.058h-1.3v-4.79a1.744 1.744 0 011.736-1.7h.371V3.931a1.745 1.745 0 011.736-1.7h8.435a1.747 1.747 0 011.745 1.7V7.37h.363a1.748 1.748 0 011.747 1.7v4.789h-1.3l-.7 2.058h-.542l-.7-2.058H4.969l-.7 2.058zm-.617-3.408h13.367v-3.8H3.116zm7.376-5.146h3.883V3.573h-3.883zm-5.268 0h3.887V3.573H5.223z\"></path><path d=\"M3.752 15.899l-.7-2.058H1.756V9.076a1.721 1.721 0 011.712-1.677h.394V3.932a1.721 1.721 0 011.713-1.683h8.439a1.724 1.724 0 011.721 1.681v3.463h.387a1.724 1.724 0 011.722 1.681v4.764h-1.291l-.7 2.058h-.507l-.7-2.058H4.952l-.7 2.061zm-.66-3.359h13.414V8.696H3.092zm7.376-5.146H14.4V3.55h-3.932zm-5.268 0h3.932V3.55H5.199z\"></path></svg></div></div><div><div class=\"space_space__2CSKB space_align-start__apUk4 space_vertical__3cT8e\" style=\"gap:4px;flex-wrap:\"><div><div class=\"property-type-collpase_key__1Cu4c\">Bedrooms<!-- --> </div></div><div><div class=\"property-type-collpase_value__KXE2n\">1</div></div></div></div></div></div></div><div class=\"card_card__3KEPg property-type-collpase_cardContents__2KvST card_border__2siZ1\" style=\"--padding:24px\"><div class=\"property-type-collpase_cardHeader__1JrW0\"><div class=\"space_spaceFlex__35XH1 space_align-baseline__2zLhO space_justify-space-between__2vruQ\" style=\"gap:16px;flex-wrap:\"><div><div class=\"flex flexYcenter\" style=\"gap:10px\"><div>Apartment</div></div></div><div><div class=\"property-type-collpase_price__2sVVI\"><small>PKR </small>2.48 Crore to 5.46 Crore</div></div></div></div><div class=\"group_grid__h9Tre\" style=\"--template:repeat(auto-fill, minmax(min(22ch, 100%), 1fr))\"><div class=\"property-type-collpase_infoBlock__1pJQ9 space_space__2CSKB space_align-start__apUk4\" style=\"gap:16px;flex-wrap:\"><div><div class=\"Icon_hasBackground__3OKgm\" style=\"--icon-bg: #effdf5; --icon-bg-size: 2rem;\"><svg width=\"1em\" height=\"1em\" viewBox=\"0 0 24 24\" class=\"Icon_icon__2_bai\" style=\"--icon-size:1.2em;--icon-color:#7ed8aa\" bgstyle=\"[object Object]\" color=\"#7ed8aa\" bgStyle=\"[object Object]\"><path d=\"M11.742 16.868v1.201H5.453v-1.201a.632.632 0 0 0-.181-.444.615.615 0 0 0-.674-.136.616.616 0 0 0-.2.137l-2.211 2.247a.621.621 0 0 0-.187.44.631.631 0 0 0 .176.444l.01.012 2.219 2.248a.614.614 0 0 0 .874 0 .637.637 0 0 0 .18-.442v-1.202h6.278v1.201a.63.63 0 0 0 .18.444.614.614 0 0 0 .875 0l2.211-2.25a.631.631 0 0 0 0-.885l-2.211-2.257a.62.62 0 0 0-.437-.184.611.611 0 0 0-.437.184.633.633 0 0 0-.176.443Zm5.205-11.373h1.186v6.37h-1.186a.608.608 0 0 0-.435.185.625.625 0 0 0-.178.444c0 .165.066.323.181.44l2.212 2.241a.616.616 0 0 0 .874 0l2.218-2.241a.631.631 0 0 0-.2-1.022.608.608 0 0 0-.237-.048h-1.185v-6.37h1.185a.614.614 0 0 0 .437-.183.631.631 0 0 0 0-.886L19.6 2.184a.614.614 0 0 0-.874 0l-2.212 2.241a.625.625 0 0 0-.133.681.625.625 0 0 0 .565.389Zm-4.843 8.678H4.098a1.984 1.984 0 0 1-1.41-.593 2.04 2.04 0 0 1-.586-1.429v-8.13c0-.535.21-1.05.585-1.429S3.57 2 4.098 2h8.015c.529 0 1.036.213 1.41.593.374.379.584.893.585 1.429v8.124a2.048 2.048 0 0 1-.586 1.434 1.996 1.996 0 0 1-1.418.593ZM4.09 3.727a.296.296 0 0 0-.21.088.304.304 0 0 0-.088.214v8.124a.304.304 0 0 0 .184.278.291.291 0 0 0 .114.022h8.014a.291.291 0 0 0 .21-.087.301.301 0 0 0 .088-.213V4.022a.304.304 0 0 0-.087-.214.296.296 0 0 0-.21-.088l-8.015.007Z\"></path></svg></div></div><div><div class=\"space_space__2CSKB space_align-start__apUk4 space_vertical__3cT8e\" style=\"gap:4px;flex-wrap:\"><div><div class=\"property-type-collpase_key__1Cu4c\">Area Size </div></div><div><div class=\"property-type-collpase_value__KXE2n\">6.31 - 13.87<!-- --> <!-- -->marla</div></div></div></div></div><div class=\"property-type-collpase_infoBlock__1pJQ9 space_space__2CSKB space_align-start__apUk4\" style=\"gap:16px;flex-wrap:\"><div><div class=\"Icon_hasBackground__3OKgm\" style=\"--icon-bg: #effdf5; --icon-bg-size: 2rem;\"><svg width=\"1em\" height=\"1em\" viewBox=\"0 0 19 19\" class=\"Icon_icon__2_bai\" style=\"--icon-size:1.2em;--icon-color:#7ed8aa\" bgstyle=\"[object Object]\" color=\"#7ed8aa\" bgStyle=\"[object Object]\"><path d=\"M3.733 15.922l-.7-2.058h-1.3v-4.79a1.744 1.744 0 011.736-1.7h.371V3.931a1.745 1.745 0 011.736-1.7h8.435a1.747 1.747 0 011.745 1.7V7.37h.363a1.748 1.748 0 011.747 1.7v4.789h-1.3l-.7 2.058h-.542l-.7-2.058H4.969l-.7 2.058zm-.617-3.408h13.367v-3.8H3.116zm7.376-5.146h3.883V3.573h-3.883zm-5.268 0h3.887V3.573H5.223z\"></path><path d=\"M3.752 15.899l-.7-2.058H1.756V9.076a1.721 1.721 0 011.712-1.677h.394V3.932a1.721 1.721 0 011.713-1.683h8.439a1.724 1.724 0 011.721 1.681v3.463h.387a1.724 1.724 0 011.722 1.681v4.764h-1.291l-.7 2.058h-.507l-.7-2.058H4.952l-.7 2.061zm-.66-3.359h13.414V8.696H3.092zm7.376-5.146H14.4V3.55h-3.932zm-5.268 0h3.932V3.55H5.199z\"></path></svg></div></div><div><div class=\"space_space__2CSKB space_align-start__apUk4 space_vertical__3cT8e\" style=\"gap:4px;flex-wrap:\"><div><div class=\"property-type-collpase_key__1Cu4c\">Bedrooms<!-- --> </div></div><div><div class=\"property-type-collpase_value__KXE2n\">2</div></div></div></div></div><div class=\"property-type-collpase_infoBlock__1pJQ9 space_space__2CSKB space_align-start__apUk4\" style=\"gap:16px;flex-wrap:\"><div><div class=\"Icon_hasBackground__3OKgm\" style=\"--icon-bg: #effdf5; --icon-bg-size: 2rem;\"><svg width=\"1em\" height=\"1em\" viewBox=\"0 0 14 13\" fill=\"none\" class=\"Icon_icon__2_bai\" style=\"--icon-size:1.2em;--icon-color:#7ed8aa\" bgstyle=\"[object Object]\" color=\"#7ed8aa\" bgStyle=\"[object Object]\"><path fill=\"#7ed8aa\" d=\"M11.986 5.876V2.248A2.3 2.3 0 0 0 11.229.69 2.192 2.192 0 0 0 9.62.134a2.044 2.044 0 0 0-1.44.552 2.144 2.144 0 0 0-.673 1.417H6.7a.476.476 0 0 0-.325.152.5.5 0 0 0 0 .68.476.476 0 0 0 .325.152h2.562a.476.476 0 0 0 .325-.152.5.5 0 0 0 0-.68.476.476 0 0 0-.325-.152H8.47c.044-.284.188-.541.405-.723.217-.181.491-.275.77-.262.328-.033.655.066.913.276.257.21.425.515.467.85v3.632H.937c-.17 0-.333.07-.453.193a.665.665 0 0 0-.187.464v3.281c0 .697.27 1.364.75 1.856a2.53 2.53 0 0 0 1.811.769h7.686c.68 0 1.331-.277 1.811-.769s.75-1.16.75-1.856V6.533a.665.665 0 0 0-.187-.464.634.634 0 0 0-.452-.192l-.48-.001ZM3.819 7.024h3.203v1.8H3.819v-1.8Zm8.166 2.79c-.001.39-.153.766-.423 1.043-.27.276-.637.432-1.019.432H2.857c-.382 0-.748-.156-1.018-.433a1.497 1.497 0 0 1-.422-1.043V7.024h1.441V8.5a1.34 1.34 0 0 0 .375.93 1.279 1.279 0 0 0 .907.383H6.7a1.253 1.253 0 0 0 .907-.384 1.314 1.314 0 0 0 .375-.929V7.024h4.003l-.001 2.79Z\"></path></svg></div></div><div><div class=\"space_space__2CSKB space_align-start__apUk4 space_vertical__3cT8e\" style=\"gap:4px;flex-wrap:\"><div><div class=\"property-type-collpase_key__1Cu4c\">Bathrooms<!-- --> </div></div><div><div class=\"property-type-collpase_value__KXE2n\">2</div></div></div></div></div></div></div><div class=\"card_card__3KEPg property-type-collpase_cardContents__2KvST card_border__2siZ1\" style=\"--padding:24px\"><div class=\"property-type-collpase_cardHeader__1JrW0\"><div class=\"space_spaceFlex__35XH1 space_align-baseline__2zLhO space_justify-space-between__2vruQ\" style=\"gap:16px;flex-wrap:\"><div><div class=\"flex flexYcenter\" style=\"gap:10px\"><div>Apartment</div></div></div><div><div class=\"property-type-collpase_price__2sVVI\"><small>PKR </small>3.67 Crore to 10.22 Crore</div></div></div></div><div class=\"group_grid__h9Tre\" style=\"--template:repeat(auto-fill, minmax(min(22ch, 100%), 1fr))\"><div class=\"property-type-collpase_infoBlock__1pJQ9 space_space__2CSKB space_align-start__apUk4\" style=\"gap:16px;flex-wrap:\"><div><div class=\"Icon_hasBackground__3OKgm\" style=\"--icon-bg: #effdf5; --icon-bg-size: 2rem;\"><svg width=\"1em\" height=\"1em\" viewBox=\"0 0 24 24\" class=\"Icon_icon__2_bai\" style=\"--icon-size:1.2em;--icon-color:#7ed8aa\" bgstyle=\"[object Object]\" color=\"#7ed8aa\" bgStyle=\"[object Object]\"><path d=\"M11.742 16.868v1.201H5.453v-1.201a.632.632 0 0 0-.181-.444.615.615 0 0 0-.674-.136.616.616 0 0 0-.2.137l-2.211 2.247a.621.621 0 0 0-.187.44.631.631 0 0 0 .176.444l.01.012 2.219 2.248a.614.614 0 0 0 .874 0 .637.637 0 0 0 .18-.442v-1.202h6.278v1.201a.63.63 0 0 0 .18.444.614.614 0 0 0 .875 0l2.211-2.25a.631.631 0 0 0 0-.885l-2.211-2.257a.62.62 0 0 0-.437-.184.611.611 0 0 0-.437.184.633.633 0 0 0-.176.443Zm5.205-11.373h1.186v6.37h-1.186a.608.608 0 0 0-.435.185.625.625 0 0 0-.178.444c0 .165.066.323.181.44l2.212 2.241a.616.616 0 0 0 .874 0l2.218-2.241a.631.631 0 0 0-.2-1.022.608.608 0 0 0-.237-.048h-1.185v-6.37h1.185a.614.614 0 0 0 .437-.183.631.631 0 0 0 0-.886L19.6 2.184a.614.614 0 0 0-.874 0l-2.212 2.241a.625.625 0 0 0-.133.681.625.625 0 0 0 .565.389Zm-4.843 8.678H4.098a1.984 1.984 0 0 1-1.41-.593 2.04 2.04 0 0 1-.586-1.429v-8.13c0-.535.21-1.05.585-1.429S3.57 2 4.098 2h8.015c.529 0 1.036.213 1.41.593.374.379.584.893.585 1.429v8.124a2.048 2.048 0 0 1-.586 1.434 1.996 1.996 0 0 1-1.418.593ZM4.09 3.727a.296.296 0 0 0-.21.088.304.304 0 0 0-.088.214v8.124a.304.304 0 0 0 .184.278.291.291 0 0 0 .114.022h8.014a.291.291 0 0 0 .21-.087.301.301 0 0 0 .088-.213V4.022a.304.304 0 0 0-.087-.214.296.296 0 0 0-.21-.088l-8.015.007Z\"></path></svg></div></div><div><div class=\"space_space__2CSKB space_align-start__apUk4 space_vertical__3cT8e\" style=\"gap:4px;flex-wrap:\"><div><div class=\"property-type-collpase_key__1Cu4c\">Area Size </div></div><div><div class=\"property-type-collpase_value__KXE2n\">9.31 - 25.95<!-- --> <!-- -->marla</div></div></div></div></div><div class=\"property-type-collpase_infoBlock__1pJQ9 space_space__2CSKB space_align-start__apUk4\" style=\"gap:16px;flex-wrap:\"><div><div class=\"Icon_hasBackground__3OKgm\" style=\"--icon-bg: #effdf5; --icon-bg-size: 2rem;\"><svg width=\"1em\" height=\"1em\" viewBox=\"0 0 14 13\" fill=\"none\" class=\"Icon_icon__2_bai\" style=\"--icon-size:1.2em;--icon-color:#7ed8aa\" bgstyle=\"[object Object]\" color=\"#7ed8aa\" bgStyle=\"[object Object]\"><path fill=\"#7ed8aa\" d=\"M11.986 5.876V2.248A2.3 2.3 0 0 0 11.229.69 2.192 2.192 0 0 0 9.62.134a2.044 2.044 0 0 0-1.44.552 2.144 2.144 0 0 0-.673 1.417H6.7a.476.476 0 0 0-.325.152.5.5 0 0 0 0 .68.476.476 0 0 0 .325.152h2.562a.476.476 0 0 0 .325-.152.5.5 0 0 0 0-.68.476.476 0 0 0-.325-.152H8.47c.044-.284.188-.541.405-.723.217-.181.491-.275.77-.262.328-.033.655.066.913.276.257.21.425.515.467.85v3.632H.937c-.17 0-.333.07-.453.193a.665.665 0 0 0-.187.464v3.281c0 .697.27 1.364.75 1.856a2.53 2.53 0 0 0 1.811.769h7.686c.68 0 1.331-.277 1.811-.769s.75-1.16.75-1.856V6.533a.665.665 0 0 0-.187-.464.634.634 0 0 0-.452-.192l-.48-.001ZM3.819 7.024h3.203v1.8H3.819v-1.8Zm8.166 2.79c-.001.39-.153.766-.423 1.043-.27.276-.637.432-1.019.432H2.857c-.382 0-.748-.156-1.018-.433a1.497 1.497 0 0 1-.422-1.043V7.024h1.441V8.5a1.34 1.34 0 0 0 .375.93 1.279 1.279 0 0 0 .907.383H6.7a1.253 1.253 0 0 0 .907-.384 1.314 1.314 0 0 0 .375-.929V7.024h4.003l-.001 2.79Z\"></path></svg></div></div><div><div class=\"space_space__2CSKB space_align-start__apUk4 space_vertical__3cT8e\" style=\"gap:4px;flex-wrap:\"><div><div class=\"property-type-collpase_key__1Cu4c\">Bathrooms<!-- --> </div></div><div><div class=\"property-type-collpase_value__KXE2n\">3</div></div></div></div></div><div class=\"property-type-collpase_infoBlock__1pJQ9 space_space__2CSKB space_align-start__apUk4\" style=\"gap:16px;flex-wrap:\"><div><div class=\"Icon_hasBackground__3OKgm\" style=\"--icon-bg: #effdf5; --icon-bg-size: 2rem;\"><svg width=\"1em\" height=\"1em\" viewBox=\"0 0 19 19\" class=\"Icon_icon__2_bai\" style=\"--icon-size:1.2em;--icon-color:#7ed8aa\" bgstyle=\"[object Object]\" color=\"#7ed8aa\" bgStyle=\"[object Object]\"><path d=\"M3.733 15.922l-.7-2.058h-1.3v-4.79a1.744 1.744 0 011.736-1.7h.371V3.931a1.745 1.745 0 011.736-1.7h8.435a1.747 1.747 0 011.745 1.7V7.37h.363a1.748 1.748 0 011.747 1.7v4.789h-1.3l-.7 2.058h-.542l-.7-2.058H4.969l-.7 2.058zm-.617-3.408h13.367v-3.8H3.116zm7.376-5.146h3.883V3.573h-3.883zm-5.268 0h3.887V3.573H5.223z\"></path><path d=\"M3.752 15.899l-.7-2.058H1.756V9.076a1.721 1.721 0 011.712-1.677h.394V3.932a1.721 1.721 0 011.713-1.683h8.439a1.724 1.724 0 011.721 1.681v3.463h.387a1.724 1.724 0 011.722 1.681v4.764h-1.291l-.7 2.058h-.507l-.7-2.058H4.952l-.7 2.061zm-.66-3.359h13.414V8.696H3.092zm7.376-5.146H14.4V3.55h-3.932zm-5.268 0h3.932V3.55H5.199z\"></path></svg></div></div><div><div class=\"space_space__2CSKB space_align-start__apUk4 space_vertical__3cT8e\" style=\"gap:4px;flex-wrap:\"><div><div class=\"property-type-collpase_key__1Cu4c\">Bedrooms<!-- --> </div></div><div><div class=\"property-type-collpase_value__KXE2n\">3</div></div></div></div></div></div></div><div class=\"card_card__3KEPg property-type-collpase_cardContents__2KvST card_border__2siZ1\" style=\"--padding:24px\"><div class=\"property-type-collpase_cardHeader__1JrW0\"><div class=\"space_spaceFlex__35XH1 space_align-baseline__2zLhO space_justify-space-between__2vruQ\" style=\"gap:16px;flex-wrap:\"><div><div class=\"flex flexYcenter\" style=\"gap:10px\"><div>Apartment</div></div></div><div><div class=\"property-type-collpase_price__2sVVI\"><small>PKR </small>7.46 Crore to 10.13 Crore</div></div></div></div><div class=\"group_grid__h9Tre\" style=\"--template:repeat(auto-fill, minmax(min(22ch, 100%), 1fr))\"><div class=\"property-type-collpase_infoBlock__1pJQ9 space_space__2CSKB space_align-start__apUk4\" style=\"gap:16px;flex-wrap:\"><div><div class=\"Icon_hasBackground__3OKgm\" style=\"--icon-bg: #effdf5; --icon-bg-size: 2rem;\"><svg width=\"1em\" height=\"1em\" viewBox=\"0 0 24 24\" class=\"Icon_icon__2_bai\" style=\"--icon-size:1.2em;--icon-color:#7ed8aa\" bgstyle=\"[object Object]\" color=\"#7ed8aa\" bgStyle=\"[object Object]\"><path d=\"M11.742 16.868v1.201H5.453v-1.201a.632.632 0 0 0-.181-.444.615.615 0 0 0-.674-.136.616.616 0 0 0-.2.137l-2.211 2.247a.621.621 0 0 0-.187.44.631.631 0 0 0 .176.444l.01.012 2.219 2.248a.614.614 0 0 0 .874 0 .637.637 0 0 0 .18-.442v-1.202h6.278v1.201a.63.63 0 0 0 .18.444.614.614 0 0 0 .875 0l2.211-2.25a.631.631 0 0 0 0-.885l-2.211-2.257a.62.62 0 0 0-.437-.184.611.611 0 0 0-.437.184.633.633 0 0 0-.176.443Zm5.205-11.373h1.186v6.37h-1.186a.608.608 0 0 0-.435.185.625.625 0 0 0-.178.444c0 .165.066.323.181.44l2.212 2.241a.616.616 0 0 0 .874 0l2.218-2.241a.631.631 0 0 0-.2-1.022.608.608 0 0 0-.237-.048h-1.185v-6.37h1.185a.614.614 0 0 0 .437-.183.631.631 0 0 0 0-.886L19.6 2.184a.614.614 0 0 0-.874 0l-2.212 2.241a.625.625 0 0 0-.133.681.625.625 0 0 0 .565.389Zm-4.843 8.678H4.098a1.984 1.984 0 0 1-1.41-.593 2.04 2.04 0 0 1-.586-1.429v-8.13c0-.535.21-1.05.585-1.429S3.57 2 4.098 2h8.015c.529 0 1.036.213 1.41.593.374.379.584.893.585 1.429v8.124a2.048 2.048 0 0 1-.586 1.434 1.996 1.996 0 0 1-1.418.593ZM4.09 3.727a.296.296 0 0 0-.21.088.304.304 0 0 0-.088.214v8.124a.304.304 0 0 0 .184.278.291.291 0 0 0 .114.022h8.014a.291.291 0 0 0 .21-.087.301.301 0 0 0 .088-.213V4.022a.304.304 0 0 0-.087-.214.296.296 0 0 0-.21-.088l-8.015.007Z\"></path></svg></div></div><div><div class=\"space_space__2CSKB space_align-start__apUk4 space_vertical__3cT8e\" style=\"gap:4px;flex-wrap:\"><div><div class=\"property-type-collpase_key__1Cu4c\">Area Size </div></div><div><div class=\"property-type-collpase_value__KXE2n\">18.94 - 25.72<!-- --> <!-- -->marla</div></div></div></div></div><div class=\"property-type-collpase_infoBlock__1pJQ9 space_space__2CSKB space_align-start__apUk4\" style=\"gap:16px;flex-wrap:\"><div><div class=\"Icon_hasBackground__3OKgm\" style=\"--icon-bg: #effdf5; --icon-bg-size: 2rem;\"><svg width=\"1em\" height=\"1em\" viewBox=\"0 0 14 13\" fill=\"none\" class=\"Icon_icon__2_bai\" style=\"--icon-size:1.2em;--icon-color:#7ed8aa\" bgstyle=\"[object Object]\" color=\"#7ed8aa\" bgStyle=\"[object Object]\"><path fill=\"#7ed8aa\" d=\"M11.986 5.876V2.248A2.3 2.3 0 0 0 11.229.69 2.192 2.192 0 0 0 9.62.134a2.044 2.044 0 0 0-1.44.552 2.144 2.144 0 0 0-.673 1.417H6.7a.476.476 0 0 0-.325.152.5.5 0 0 0 0 .68.476.476 0 0 0 .325.152h2.562a.476.476 0 0 0 .325-.152.5.5 0 0 0 0-.68.476.476 0 0 0-.325-.152H8.47c.044-.284.188-.541.405-.723.217-.181.491-.275.77-.262.328-.033.655.066.913.276.257.21.425.515.467.85v3.632H.937c-.17 0-.333.07-.453.193a.665.665 0 0 0-.187.464v3.281c0 .697.27 1.364.75 1.856a2.53 2.53 0 0 0 1.811.769h7.686c.68 0 1.331-.277 1.811-.769s.75-1.16.75-1.856V6.533a.665.665 0 0 0-.187-.464.634.634 0 0 0-.452-.192l-.48-.001ZM3.819 7.024h3.203v1.8H3.819v-1.8Zm8.166 2.79c-.001.39-.153.766-.423 1.043-.27.276-.637.432-1.019.432H2.857c-.382 0-.748-.156-1.018-.433a1.497 1.497 0 0 1-.422-1.043V7.024h1.441V8.5a1.34 1.34 0 0 0 .375.93 1.279 1.279 0 0 0 .907.383H6.7a1.253 1.253 0 0 0 .907-.384 1.314 1.314 0 0 0 .375-.929V7.024h4.003l-.001 2.79Z\"></path></svg></div></div><div><div class=\"space_space__2CSKB space_align-start__apUk4 space_vertical__3cT8e\" style=\"gap:4px;flex-wrap:\"><div><div class=\"property-type-collpase_key__1Cu4c\">Bathrooms<!-- --> </div></div><div><div class=\"property-type-collpase_value__KXE2n\">4</div></div></div></div></div><div class=\"property-type-collpase_infoBlock__1pJQ9 space_space__2CSKB space_align-start__apUk4\" style=\"gap:16px;flex-wrap:\"><div><div class=\"Icon_hasBackground__3OKgm\" style=\"--icon-bg: #effdf5; --icon-bg-size: 2rem;\"><svg width=\"1em\" height=\"1em\" viewBox=\"0 0 19 19\" class=\"Icon_icon__2_bai\" style=\"--icon-size:1.2em;--icon-color:#7ed8aa\" bgstyle=\"[object Object]\" color=\"#7ed8aa\" bgStyle=\"[object Object]\"><path d=\"M3.733 15.922l-.7-2.058h-1.3v-4.79a1.744 1.744 0 011.736-1.7h.371V3.931a1.745 1.745 0 011.736-1.7h8.435a1.747 1.747 0 011.745 1.7V7.37h.363a1.748 1.748 0 011.747 1.7v4.789h-1.3l-.7 2.058h-.542l-.7-2.058H4.969l-.7 2.058zm-.617-3.408h13.367v-3.8H3.116zm7.376-5.146h3.883V3.573h-3.883zm-5.268 0h3.887V3.573H5.223z\"></path><path d=\"M3.752 15.899l-.7-2.058H1.756V9.076a1.721 1.721 0 011.712-1.677h.394V3.932a1.721 1.721 0 011.713-1.683h8.439a1.724 1.724 0 011.721 1.681v3.463h.387a1.724 1.724 0 011.722 1.681v4.764h-1.291l-.7 2.058h-.507l-.7-2.058H4.952l-.7 2.061zm-.66-3.359h13.414V8.696H3.092zm7.376-5.146H14.4V3.55h-3.932zm-5.268 0h3.932V3.55H5.199z\"></path></svg></div></div><div><div class=\"space_space__2CSKB space_align-start__apUk4 space_vertical__3cT8e\" style=\"gap:4px;flex-wrap:\"><div><div class=\"property-type-collpase_key__1Cu4c\">Bedrooms<!-- --> </div></div><div><div class=\"property-type-collpase_value__KXE2n\">4</div></div></div></div></div></div></div></div></div></div></div><div class=\"rc-collapse-item\" style=\"border-radius:\"><div class=\"rc-collapse-header\" role=\"button\" tabindex=\"0\" aria-expanded=\"false\"><div class=\"property-type-collpase_panelHeader__2EKWc\"><div class=\"space_space__2CSKB space_align-center__2jK7Q\" style=\"gap:16px;flex-wrap:\"><div><svg width=\"1em\" height=\"1em\" viewBox=\"0 0 24 24\" class=\"property-type-collpase_icon__2Wg92 Icon_icon__2_bai\" style=\"--icon-size:1.715em\"><path d=\"m20.983 9.051-1.018-4.074a1.124 1.124 0 0 0-1.091-.852H5.127c-.516 0-.966.351-1.092.852L3.017 9.05A.55.55 0 0 0 3 9.187C3 10.738 4.198 12 5.672 12c.856 0 1.62-.426 2.11-1.088C8.27 11.574 9.033 12 9.89 12c.856 0 1.62-.426 2.109-1.088.49.662 1.252 1.088 2.11 1.088.857 0 1.62-.426 2.109-1.088.49.662 1.252 1.088 2.11 1.088C19.801 12 21 10.738 21 9.187a.548.548 0 0 0-.017-.136Z\" fill=\"#79D0A4\"></path><path d=\"M18.328 13.124a3.68 3.68 0 0 1-2.11-.661c-1.23.856-2.987.856-4.218 0-1.23.856-2.988.856-4.219 0a3.65 3.65 0 0 1-3.656.312v5.974c0 .621.504 1.125 1.125 1.125h4.5v-4.5h4.5v4.5h4.5c.621 0 1.125-.504 1.125-1.125v-5.974a3.65 3.65 0 0 1-1.547.35Z\" fill=\"#7ED8AA\" fill-opacity=\"0.5\"></path></svg></div><div><div><div class=\"u-spbwx12 flex flexYcenter\"><div class=\"property-type-collpase_headerTitle__1qE0F\">Shops</div></div></div></div></div><div class=\"space_space__2CSKB space_align-center__2jK7Q\" style=\"gap:8px;flex-wrap:wrap\"><div><div class=\"property-type-collpase_price__2sVVI\"><small>PKR</small> <!-- -->31.15&nbsp;Lakh to 5.74 Crore</div></div><div><svg stroke=\"currentColor\" fill=\"currentColor\" stroke-width=\"0\" viewBox=\"0 0 512 512\" class=\"property-type-collpase_caret__lcc38 flex-none\" height=\"1em\" width=\"1em\" xmlns=\"http://www.w3.org/2000/svg\"><path d=\"M98 190.06l139.78 163.12a24 24 0 0036.44 0L414 190.06c13.34-15.57 2.28-39.62-18.22-39.62h-279.6c-20.5 0-31.56 24.05-18.18 39.62z\"></path></svg></div></div></div></div></div></div>'"
      ]
     },
     "execution_count": 26,
     "metadata": {},
     "output_type": "execute_result"
    }
   ],
   "source": [
    "info_parent_element = driver.find_element(By.CSS_SELECTOR, 'main > div > div:nth-child(2) > div > div:nth-child(2) > div > div')\n",
    "info_parent_element.get_attribute('outerHTML')"
   ]
  },
  {
   "cell_type": "code",
   "execution_count": 27,
   "metadata": {},
   "outputs": [],
   "source": [
    "info_elements = info_parent_element.find_elements(By.CSS_SELECTOR, ':scope > div')\n",
    "for ele in info_elements:\n",
    "    ele.find_elements()\n",
    "    # print(ele.get_attribute('outerHTML'))"
   ]
  },
  {
   "cell_type": "code",
   "execution_count": 28,
   "metadata": {},
   "outputs": [
    {
     "name": "stdout",
     "output_type": "stream",
     "text": [
      "Flats\n",
      "PKR 1.03 Crore to 10.22 Crore\n"
     ]
    }
   ],
   "source": [
    "print(info_elements[0].find_element(By.CSS_SELECTOR, 'div.rc-collapse-header [class*=\"property-type-collpase_headerTitle\"]').text)\n",
    "print(info_elements[0].find_element(By.CSS_SELECTOR, 'div.rc-collapse-header [class*=\"property-type-collpase_price\"]').text)"
   ]
  },
  {
   "cell_type": "code",
   "execution_count": null,
   "metadata": {},
   "outputs": [],
   "source": [
    "class ElementData:\n",
    "    \n",
    "    @staticmethod\n",
    "    def extract_flats_data():\n",
    "        "
   ]
  },
  {
   "cell_type": "code",
   "execution_count": 29,
   "metadata": {},
   "outputs": [],
   "source": [
    "this_project_data = {}\n",
    "\n",
    "overview_elements = driver.find_elements(By.CSS_SELECTOR, 'main > div > div:nth-child(2) > div > div:nth-child(1) > div > div[class^=\"new-projects-overview\"] [class^=\"new-projects-overview_value\"]')\n",
    "\n",
    "offerings = overview_elements[0].text\n",
    "offerings = list(map(lambda x: x.strip(), offerings.split(' ')))\n",
    "\n",
    "\n",
    "developer = overview_elements[1].text\n",
    "\n",
    "this_project_data['offerings'] = offerings\n",
    "this_project_data['developer'] = developer\n",
    "\n",
    "info_parent_element = driver.find_element(By.CSS_SELECTOR, 'main > div > div:nth-child(2) > div > div:nth-child(2) > div > div')\n",
    "info_elements = info_parent_element.find_elements(By.CSS_SELECTOR, ':scope > div')\n",
    "\n",
    "tile_data = []\n",
    "for info_ele in info_elements:\n",
    "    info_ele_data = {}\n",
    "    # Get type name\n",
    "    type_name = info_ele.find_element(By.CSS_SELECTOR, 'div.rc-collapse-header [class*=\"property-type-collpase_headerTitle\"]').text\n",
    "    \n",
    "    # Get price range\n",
    "    price_range = info_ele.find_element(By.CSS_SELECTOR, 'div.rc-collapse-header [class*=\"property-type-collpase_price\"]').text\n",
    "    \n",
    "    #Get the info cards within this type\n",
    "\n",
    "    info_ele_data['type'] = type_name\n",
    "    info_ele_data['price_range'] = price_range\n",
    "\n",
    "    info_cards = info_ele.find_elements(By.CSS_SELECTOR, 'div.rc-collapse-content-box div[class*=\"card_card\"]')\n",
    "            \n",
    "    \n",
    "    # Get info from each card\n",
    "    cards_data_list = []\n",
    "    for card in info_cards:\n",
    "        card_data = {}\n",
    "        (card_type_ele, card_price_ele) = card.find_elements(By.CSS_SELECTOR, 'div[class*=\"property-type-collpase_cardHeader\"] > div > div')\n",
    "        card_type, card_price = card_type_ele.text, card_price_ele.text\n",
    "\n",
    "        card_data['type'] = card_type\n",
    "        card_data['price'] = card_price\n",
    "\n",
    "        # Info blocks within a card\n",
    "        info_blocks = card.find_elements(By.CSS_SELECTOR, 'div[class*=\"property-type-collpase_infoBlock\"]')\n",
    "        \n",
    "        # A single key would not be repeated within a block\n",
    "        for block in info_blocks:\n",
    "            #property name\n",
    "            property_name = block.find_element(By.CSS_SELECTOR, ':scope > div:nth-child(2) div[class*=\"property-type-collpase_key\"]').text\n",
    "            #property value\n",
    "            property_val = block.find_element(By.CSS_SELECTOR, ':scope > div:nth-child(2) div[class*=\"property-type-collpase_value\"]').text\n",
    "\n",
    "            card_data[property_name] = property_val\n",
    "\n",
    "        cards_data_list.append(card_data)\n",
    "    \n",
    "    info_ele_data['cards'] = cards_data_list\n",
    "\n",
    "    tile_data.append(info_ele_data)\n",
    "\n",
    "this_project_data['tiles'] = tile_data\n"
   ]
  },
  {
   "cell_type": "code",
   "execution_count": 30,
   "metadata": {},
   "outputs": [
    {
     "data": {
      "text/plain": [
       "{'offerings': ['Flats,', 'Shops'],\n",
       " 'developer': 'Premier Choice',\n",
       " 'tiles': [{'type': 'Flats',\n",
       "   'price_range': 'PKR 1.03 Crore to 10.22 Crore',\n",
       "   'cards': [{'type': 'Apartment',\n",
       "     'price': 'PKR 1.03 Crore to 1.67 Crore',\n",
       "     'Area Size': '2.23 - 3.61 marla',\n",
       "     'Bathrooms': '1',\n",
       "     'Bedrooms': '–'},\n",
       "    {'type': 'Apartment',\n",
       "     'price': 'PKR 2.13 Crore to 3.78 Crore',\n",
       "     'Area Size': '4.61 - 8.2 marla',\n",
       "     'Bathrooms': '1',\n",
       "     'Bedrooms': '1'},\n",
       "    {'type': 'Apartment',\n",
       "     'price': 'PKR 2.48 Crore to 5.46 Crore',\n",
       "     'Area Size': '6.31 - 13.87 marla',\n",
       "     'Bedrooms': '2',\n",
       "     'Bathrooms': '2'},\n",
       "    {'type': 'Apartment',\n",
       "     'price': 'PKR 3.67 Crore to 10.22 Crore',\n",
       "     'Area Size': '9.31 - 25.95 marla',\n",
       "     'Bathrooms': '3',\n",
       "     'Bedrooms': '3'},\n",
       "    {'type': 'Apartment',\n",
       "     'price': 'PKR 7.46 Crore to 10.13 Crore',\n",
       "     'Area Size': '18.94 - 25.72 marla',\n",
       "     'Bathrooms': '4',\n",
       "     'Bedrooms': '4'}]},\n",
       "  {'type': 'Shops',\n",
       "   'price_range': 'PKR 31.15 Lakh to 5.74 Crore',\n",
       "   'cards': []}]}"
      ]
     },
     "execution_count": 30,
     "metadata": {},
     "output_type": "execute_result"
    }
   ],
   "source": [
    "this_project_data"
   ]
  },
  {
   "cell_type": "code",
   "execution_count": 39,
   "metadata": {},
   "outputs": [
    {
     "data": {
      "text/plain": [
       "'<div class=\"rc-collapse-item\" style=\"border-radius:\"><div class=\"rc-collapse-header\" role=\"button\" tabindex=\"0\" aria-expanded=\"false\"><div class=\"property-type-collpase_panelHeader__2EKWc\"><div class=\"space_space__2CSKB space_align-center__2jK7Q\" style=\"gap:16px;flex-wrap:\"><div><svg width=\"1em\" height=\"1em\" viewBox=\"0 0 24 24\" class=\"property-type-collpase_icon__2Wg92 Icon_icon__2_bai\" style=\"--icon-size:1.715em\"><path d=\"m20.983 9.051-1.018-4.074a1.124 1.124 0 0 0-1.091-.852H5.127c-.516 0-.966.351-1.092.852L3.017 9.05A.55.55 0 0 0 3 9.187C3 10.738 4.198 12 5.672 12c.856 0 1.62-.426 2.11-1.088C8.27 11.574 9.033 12 9.89 12c.856 0 1.62-.426 2.109-1.088.49.662 1.252 1.088 2.11 1.088.857 0 1.62-.426 2.109-1.088.49.662 1.252 1.088 2.11 1.088C19.801 12 21 10.738 21 9.187a.548.548 0 0 0-.017-.136Z\" fill=\"#79D0A4\"></path><path d=\"M18.328 13.124a3.68 3.68 0 0 1-2.11-.661c-1.23.856-2.987.856-4.218 0-1.23.856-2.988.856-4.219 0a3.65 3.65 0 0 1-3.656.312v5.974c0 .621.504 1.125 1.125 1.125h4.5v-4.5h4.5v4.5h4.5c.621 0 1.125-.504 1.125-1.125v-5.974a3.65 3.65 0 0 1-1.547.35Z\" fill=\"#7ED8AA\" fill-opacity=\"0.5\"></path></svg></div><div><div><div class=\"u-spbwx12 flex flexYcenter\"><div class=\"property-type-collpase_headerTitle__1qE0F\">Shops</div></div></div></div></div><div class=\"space_space__2CSKB space_align-center__2jK7Q\" style=\"gap:8px;flex-wrap:wrap\"><div><div class=\"property-type-collpase_price__2sVVI\"><small>PKR</small> <!-- -->31.15&nbsp;Lakh to 5.74 Crore</div></div><div><svg stroke=\"currentColor\" fill=\"currentColor\" stroke-width=\"0\" viewBox=\"0 0 512 512\" class=\"property-type-collpase_caret__lcc38 flex-none\" height=\"1em\" width=\"1em\" xmlns=\"http://www.w3.org/2000/svg\"><path d=\"M98 190.06l139.78 163.12a24 24 0 0036.44 0L414 190.06c13.34-15.57 2.28-39.62-18.22-39.62h-279.6c-20.5 0-31.56 24.05-18.18 39.62z\"></path></svg></div></div></div></div><div class=\"rc-collapse-content rc-collapse-content-inactive rc-collapse-content-hidden\"><div class=\"rc-collapse-content-box\"><div class=\"property-type-collpase_shopCards__ngtcE\"><div class=\"property-type-collpase_shopCards__ngtcE group_grid__h9Tre\" style=\"--gap: 16px; --template: initial;\"><div class=\"card_card__3KEPg property-type-collpase_cardContents__2KvST card_border__2siZ1\" style=\"--padding: 24px;\"><div class=\"w-100 text-dark space_space__2CSKB space_align-center__2jK7Q space_justify-space-between__2vruQ\" style=\"gap: 16px;\"><div><div><div class=\"flex flexYcenter u-mb12\" style=\"gap: 10px;\"><div class=\"fw-700\">Commercial outlets Ground Floor</div></div><div class=\"flex flexYcenter\" style=\"gap: 6px;\"><svg width=\"1em\" height=\"1em\" viewBox=\"0 0 24 24\" class=\"Icon_icon__2_bai\" bgStyle=\"[object Object]\" color=\"#7ed8aa\" style=\"--icon-size: 1em; --icon-color: #7ed8aa; flex: 0 0 auto;\"><path d=\"m20.983 9.051-1.018-4.074a1.124 1.124 0 0 0-1.091-.852H5.127c-.516 0-.966.351-1.092.852L3.017 9.05A.55.55 0 0 0 3 9.187C3 10.738 4.198 12 5.672 12c.856 0 1.62-.426 2.11-1.088C8.27 11.574 9.033 12 9.89 12c.856 0 1.62-.426 2.109-1.088.49.662 1.252 1.088 2.11 1.088.857 0 1.62-.426 2.109-1.088.49.662 1.252 1.088 2.11 1.088C19.801 12 21 10.738 21 9.187a.548.548 0 0 0-.017-.136Z\" fill=\"#79D0A4\"></path><path d=\"M18.328 13.124a3.68 3.68 0 0 1-2.11-.661c-1.23.856-2.987.856-4.218 0-1.23.856-2.988.856-4.219 0a3.65 3.65 0 0 1-3.656.312v5.974c0 .621.504 1.125 1.125 1.125h4.5v-4.5h4.5v4.5h4.5c.621 0 1.125-.504 1.125-1.125v-5.974a3.65 3.65 0 0 1-1.547.35Z\" fill=\"#7ED8AA\" fill-opacity=\"0.5\"></path></svg><div class=\"property-type-collpase_value__KXE2n fz-14 fw-600 flex \" style=\"gap: 6px;\"><div class=\"text-light fw-400\">Area Size : </div>0.56 - 2.18 marla</div></div></div></div><div><div class=\"fw-700 lhn\"><small>PKR </small>1.46 Crore to 5.74 Crore</div></div></div></div></div></div><div class=\"property-type-collpase_shopCards__ngtcE\"><div class=\"property-type-collpase_shopCards__ngtcE group_grid__h9Tre\" style=\"--gap: 16px; --template: initial;\"><div class=\"card_card__3KEPg property-type-collpase_cardContents__2KvST card_border__2siZ1\" style=\"--padding: 24px;\"><div class=\"w-100 text-dark space_space__2CSKB space_align-center__2jK7Q space_justify-space-between__2vruQ\" style=\"gap: 16px;\"><div><div><div class=\"flex flexYcenter u-mb12\" style=\"gap: 10px;\"><div class=\"fw-700\">Commercial Outlets 1st Floor</div></div><div class=\"flex flexYcenter\" style=\"gap: 6px;\"><svg width=\"1em\" height=\"1em\" viewBox=\"0 0 24 24\" class=\"Icon_icon__2_bai\" bgStyle=\"[object Object]\" color=\"#7ed8aa\" style=\"--icon-size: 1em; --icon-color: #7ed8aa; flex: 0 0 auto;\"><path d=\"m20.983 9.051-1.018-4.074a1.124 1.124 0 0 0-1.091-.852H5.127c-.516 0-.966.351-1.092.852L3.017 9.05A.55.55 0 0 0 3 9.187C3 10.738 4.198 12 5.672 12c.856 0 1.62-.426 2.11-1.088C8.27 11.574 9.033 12 9.89 12c.856 0 1.62-.426 2.109-1.088.49.662 1.252 1.088 2.11 1.088.857 0 1.62-.426 2.109-1.088.49.662 1.252 1.088 2.11 1.088C19.801 12 21 10.738 21 9.187a.548.548 0 0 0-.017-.136Z\" fill=\"#79D0A4\"></path><path d=\"M18.328 13.124a3.68 3.68 0 0 1-2.11-.661c-1.23.856-2.987.856-4.218 0-1.23.856-2.988.856-4.219 0a3.65 3.65 0 0 1-3.656.312v5.974c0 .621.504 1.125 1.125 1.125h4.5v-4.5h4.5v4.5h4.5c.621 0 1.125-.504 1.125-1.125v-5.974a3.65 3.65 0 0 1-1.547.35Z\" fill=\"#7ED8AA\" fill-opacity=\"0.5\"></path></svg><div class=\"property-type-collpase_value__KXE2n fz-14 fw-600 flex \" style=\"gap: 6px;\"><div class=\"text-light fw-400\">Area Size : </div>0.56 - 1.64 marla</div></div></div></div><div><div class=\"fw-700 lhn\"><small>PKR </small>1.11 Crore to 3.27 Crore</div></div></div></div></div></div><div class=\"property-type-collpase_shopCards__ngtcE\"><div class=\"property-type-collpase_shopCards__ngtcE group_grid__h9Tre\" style=\"--gap: 16px; --template: initial;\"><div class=\"card_card__3KEPg property-type-collpase_cardContents__2KvST card_border__2siZ1\" style=\"--padding: 24px;\"><div class=\"w-100 text-dark space_space__2CSKB space_align-center__2jK7Q space_justify-space-between__2vruQ\" style=\"gap: 16px;\"><div><div><div class=\"flex flexYcenter u-mb12\" style=\"gap: 10px;\"><div class=\"fw-700\">Commercial Outlets 2nd Floor</div></div><div class=\"flex flexYcenter\" style=\"gap: 6px;\"><svg width=\"1em\" height=\"1em\" viewBox=\"0 0 24 24\" class=\"Icon_icon__2_bai\" bgStyle=\"[object Object]\" color=\"#7ed8aa\" style=\"--icon-size: 1em; --icon-color: #7ed8aa; flex: 0 0 auto;\"><path d=\"m20.983 9.051-1.018-4.074a1.124 1.124 0 0 0-1.091-.852H5.127c-.516 0-.966.351-1.092.852L3.017 9.05A.55.55 0 0 0 3 9.187C3 10.738 4.198 12 5.672 12c.856 0 1.62-.426 2.11-1.088C8.27 11.574 9.033 12 9.89 12c.856 0 1.62-.426 2.109-1.088.49.662 1.252 1.088 2.11 1.088.857 0 1.62-.426 2.109-1.088.49.662 1.252 1.088 2.11 1.088C19.801 12 21 10.738 21 9.187a.548.548 0 0 0-.017-.136Z\" fill=\"#79D0A4\"></path><path d=\"M18.328 13.124a3.68 3.68 0 0 1-2.11-.661c-1.23.856-2.987.856-4.218 0-1.23.856-2.988.856-4.219 0a3.65 3.65 0 0 1-3.656.312v5.974c0 .621.504 1.125 1.125 1.125h4.5v-4.5h4.5v4.5h4.5c.621 0 1.125-.504 1.125-1.125v-5.974a3.65 3.65 0 0 1-1.547.35Z\" fill=\"#7ED8AA\" fill-opacity=\"0.5\"></path></svg><div class=\"property-type-collpase_value__KXE2n fz-14 fw-600 flex \" style=\"gap: 6px;\"><div class=\"text-light fw-400\">Area Size : </div>0.56 - 1.65 marla</div></div></div></div><div><div class=\"fw-700 lhn\"><small>PKR </small>97.5&nbsp;Lakh to 2.9 Crore</div></div></div></div></div></div><div class=\"property-type-collpase_shopCards__ngtcE\"><div class=\"property-type-collpase_shopCards__ngtcE group_grid__h9Tre\" style=\"--gap: 16px; --template: initial;\"><div class=\"card_card__3KEPg property-type-collpase_cardContents__2KvST card_border__2siZ1\" style=\"--padding: 24px;\"><div class=\"w-100 text-dark space_space__2CSKB space_align-center__2jK7Q space_justify-space-between__2vruQ\" style=\"gap: 16px;\"><div><div><div class=\"flex flexYcenter u-mb12\" style=\"gap: 10px;\"><div class=\"fw-700\">Commercial Outlets 3rd Floor</div></div><div class=\"flex flexYcenter\" style=\"gap: 6px;\"><svg width=\"1em\" height=\"1em\" viewBox=\"0 0 24 24\" class=\"Icon_icon__2_bai\" bgStyle=\"[object Object]\" color=\"#7ed8aa\" style=\"--icon-size: 1em; --icon-color: #7ed8aa; flex: 0 0 auto;\"><path d=\"m20.983 9.051-1.018-4.074a1.124 1.124 0 0 0-1.091-.852H5.127c-.516 0-.966.351-1.092.852L3.017 9.05A.55.55 0 0 0 3 9.187C3 10.738 4.198 12 5.672 12c.856 0 1.62-.426 2.11-1.088C8.27 11.574 9.033 12 9.89 12c.856 0 1.62-.426 2.109-1.088.49.662 1.252 1.088 2.11 1.088.857 0 1.62-.426 2.109-1.088.49.662 1.252 1.088 2.11 1.088C19.801 12 21 10.738 21 9.187a.548.548 0 0 0-.017-.136Z\" fill=\"#79D0A4\"></path><path d=\"M18.328 13.124a3.68 3.68 0 0 1-2.11-.661c-1.23.856-2.987.856-4.218 0-1.23.856-2.988.856-4.219 0a3.65 3.65 0 0 1-3.656.312v5.974c0 .621.504 1.125 1.125 1.125h4.5v-4.5h4.5v4.5h4.5c.621 0 1.125-.504 1.125-1.125v-5.974a3.65 3.65 0 0 1-1.547.35Z\" fill=\"#7ED8AA\" fill-opacity=\"0.5\"></path></svg><div class=\"property-type-collpase_value__KXE2n fz-14 fw-600 flex \" style=\"gap: 6px;\"><div class=\"text-light fw-400\">Area Size : </div>1 - 2.44 marla</div></div></div></div><div><div class=\"fw-700 lhn\"><small>PKR </small>1.69 Crore to 4.16 Crore</div></div></div></div></div></div><div class=\"property-type-collpase_shopCards__ngtcE\"><div class=\"property-type-collpase_shopCards__ngtcE group_grid__h9Tre\" style=\"--gap: 16px; --template: initial;\"><div class=\"card_card__3KEPg property-type-collpase_cardContents__2KvST card_border__2siZ1\" style=\"--padding: 24px;\"><div class=\"w-100 text-dark space_space__2CSKB space_align-center__2jK7Q space_justify-space-between__2vruQ\" style=\"gap: 16px;\"><div><div><div class=\"flex flexYcenter u-mb12\" style=\"gap: 10px;\"><div class=\"fw-700\">Kiosk on Ground Floor</div></div><div class=\"flex flexYcenter\" style=\"gap: 6px;\"><svg width=\"1em\" height=\"1em\" viewBox=\"0 0 24 24\" class=\"Icon_icon__2_bai\" bgStyle=\"[object Object]\" color=\"#7ed8aa\" style=\"--icon-size: 1em; --icon-color: #7ed8aa; flex: 0 0 auto;\"><path d=\"m20.983 9.051-1.018-4.074a1.124 1.124 0 0 0-1.091-.852H5.127c-.516 0-.966.351-1.092.852L3.017 9.05A.55.55 0 0 0 3 9.187C3 10.738 4.198 12 5.672 12c.856 0 1.62-.426 2.11-1.088C8.27 11.574 9.033 12 9.89 12c.856 0 1.62-.426 2.109-1.088.49.662 1.252 1.088 2.11 1.088.857 0 1.62-.426 2.109-1.088.49.662 1.252 1.088 2.11 1.088C19.801 12 21 10.738 21 9.187a.548.548 0 0 0-.017-.136Z\" fill=\"#79D0A4\"></path><path d=\"M18.328 13.124a3.68 3.68 0 0 1-2.11-.661c-1.23.856-2.987.856-4.218 0-1.23.856-2.988.856-4.219 0a3.65 3.65 0 0 1-3.656.312v5.974c0 .621.504 1.125 1.125 1.125h4.5v-4.5h4.5v4.5h4.5c.621 0 1.125-.504 1.125-1.125v-5.974a3.65 3.65 0 0 1-1.547.35Z\" fill=\"#7ED8AA\" fill-opacity=\"0.5\"></path></svg><div class=\"property-type-collpase_value__KXE2n fz-14 fw-600 flex \" style=\"gap: 6px;\"><div class=\"text-light fw-400\">Area Size : </div>0.36 - 0.4 marla</div></div></div></div><div><div class=\"fw-700 lhn\"><small>PKR </small>97.8&nbsp;Lakh to 1.1 Crore</div></div></div></div></div></div><div class=\"property-type-collpase_shopCards__ngtcE\"><div class=\"property-type-collpase_shopCards__ngtcE group_grid__h9Tre\" style=\"--gap: 16px; --template: initial;\"><div class=\"card_card__3KEPg property-type-collpase_cardContents__2KvST card_border__2siZ1\" style=\"--padding: 24px;\"><div class=\"w-100 text-dark space_space__2CSKB space_align-center__2jK7Q space_justify-space-between__2vruQ\" style=\"gap: 16px;\"><div><div><div class=\"flex flexYcenter u-mb12\" style=\"gap: 10px;\"><div class=\"fw-700\">Kiosk on 1st Floor</div></div><div class=\"flex flexYcenter\" style=\"gap: 6px;\"><svg width=\"1em\" height=\"1em\" viewBox=\"0 0 24 24\" class=\"Icon_icon__2_bai\" bgStyle=\"[object Object]\" color=\"#7ed8aa\" style=\"--icon-size: 1em; --icon-color: #7ed8aa; flex: 0 0 auto;\"><path d=\"m20.983 9.051-1.018-4.074a1.124 1.124 0 0 0-1.091-.852H5.127c-.516 0-.966.351-1.092.852L3.017 9.05A.55.55 0 0 0 3 9.187C3 10.738 4.198 12 5.672 12c.856 0 1.62-.426 2.11-1.088C8.27 11.574 9.033 12 9.89 12c.856 0 1.62-.426 2.109-1.088.49.662 1.252 1.088 2.11 1.088.857 0 1.62-.426 2.109-1.088.49.662 1.252 1.088 2.11 1.088C19.801 12 21 10.738 21 9.187a.548.548 0 0 0-.017-.136Z\" fill=\"#79D0A4\"></path><path d=\"M18.328 13.124a3.68 3.68 0 0 1-2.11-.661c-1.23.856-2.987.856-4.218 0-1.23.856-2.988.856-4.219 0a3.65 3.65 0 0 1-3.656.312v5.974c0 .621.504 1.125 1.125 1.125h4.5v-4.5h4.5v4.5h4.5c.621 0 1.125-.504 1.125-1.125v-5.974a3.65 3.65 0 0 1-1.547.35Z\" fill=\"#7ED8AA\" fill-opacity=\"0.5\"></path></svg><div class=\"property-type-collpase_value__KXE2n fz-14 fw-600 flex \" style=\"gap: 6px;\"><div class=\"text-light fw-400\">Area Size : </div>0.36 - 0.43 marla</div></div></div></div><div><div class=\"fw-700 lhn\"><small>PKR </small>88.89&nbsp;Lakh to 1.08 Crore</div></div></div></div></div></div><div class=\"property-type-collpase_shopCards__ngtcE\"><div class=\"property-type-collpase_shopCards__ngtcE group_grid__h9Tre\" style=\"--gap: 16px; --template: initial;\"><div class=\"card_card__3KEPg property-type-collpase_cardContents__2KvST card_border__2siZ1\" style=\"--padding: 24px;\"><div class=\"w-100 text-dark space_space__2CSKB space_align-center__2jK7Q space_justify-space-between__2vruQ\" style=\"gap: 16px;\"><div><div><div class=\"flex flexYcenter u-mb12\" style=\"gap: 10px;\"><div class=\"fw-700\">Kiosk on 2nd Floor</div></div><div class=\"flex flexYcenter\" style=\"gap: 6px;\"><svg width=\"1em\" height=\"1em\" viewBox=\"0 0 24 24\" class=\"Icon_icon__2_bai\" bgStyle=\"[object Object]\" color=\"#7ed8aa\" style=\"--icon-size: 1em; --icon-color: #7ed8aa; flex: 0 0 auto;\"><path d=\"m20.983 9.051-1.018-4.074a1.124 1.124 0 0 0-1.091-.852H5.127c-.516 0-.966.351-1.092.852L3.017 9.05A.55.55 0 0 0 3 9.187C3 10.738 4.198 12 5.672 12c.856 0 1.62-.426 2.11-1.088C8.27 11.574 9.033 12 9.89 12c.856 0 1.62-.426 2.109-1.088.49.662 1.252 1.088 2.11 1.088.857 0 1.62-.426 2.109-1.088.49.662 1.252 1.088 2.11 1.088C19.801 12 21 10.738 21 9.187a.548.548 0 0 0-.017-.136Z\" fill=\"#79D0A4\"></path><path d=\"M18.328 13.124a3.68 3.68 0 0 1-2.11-.661c-1.23.856-2.987.856-4.218 0-1.23.856-2.988.856-4.219 0a3.65 3.65 0 0 1-3.656.312v5.974c0 .621.504 1.125 1.125 1.125h4.5v-4.5h4.5v4.5h4.5c.621 0 1.125-.504 1.125-1.125v-5.974a3.65 3.65 0 0 1-1.547.35Z\" fill=\"#7ED8AA\" fill-opacity=\"0.5\"></path></svg><div class=\"property-type-collpase_value__KXE2n fz-14 fw-600 flex \" style=\"gap: 6px;\"><div class=\"text-light fw-400\">Area Size : </div>0.36 - 0.4 marla</div></div></div></div><div><div class=\"fw-700 lhn\"><small>PKR </small>80&nbsp;Lakh to 90&nbsp;Lakh</div></div></div></div></div></div><div class=\"property-type-collpase_shopCards__ngtcE\"><div class=\"property-type-collpase_shopCards__ngtcE group_grid__h9Tre\" style=\"--gap: 16px; --template: initial;\"><div class=\"card_card__3KEPg property-type-collpase_cardContents__2KvST card_border__2siZ1\" style=\"--padding: 24px;\"><div class=\"w-100 text-dark space_space__2CSKB space_align-center__2jK7Q space_justify-space-between__2vruQ\" style=\"gap: 16px;\"><div><div><div class=\"flex flexYcenter u-mb12\" style=\"gap: 10px;\"><div class=\"fw-700\">Kiosk on 3rd Floor</div></div><div class=\"flex flexYcenter\" style=\"gap: 6px;\"><svg width=\"1em\" height=\"1em\" viewBox=\"0 0 24 24\" class=\"Icon_icon__2_bai\" bgStyle=\"[object Object]\" color=\"#7ed8aa\" style=\"--icon-size: 1em; --icon-color: #7ed8aa; flex: 0 0 auto;\"><path d=\"m20.983 9.051-1.018-4.074a1.124 1.124 0 0 0-1.091-.852H5.127c-.516 0-.966.351-1.092.852L3.017 9.05A.55.55 0 0 0 3 9.187C3 10.738 4.198 12 5.672 12c.856 0 1.62-.426 2.11-1.088C8.27 11.574 9.033 12 9.89 12c.856 0 1.62-.426 2.109-1.088.49.662 1.252 1.088 2.11 1.088.857 0 1.62-.426 2.109-1.088.49.662 1.252 1.088 2.11 1.088C19.801 12 21 10.738 21 9.187a.548.548 0 0 0-.017-.136Z\" fill=\"#79D0A4\"></path><path d=\"M18.328 13.124a3.68 3.68 0 0 1-2.11-.661c-1.23.856-2.987.856-4.218 0-1.23.856-2.988.856-4.219 0a3.65 3.65 0 0 1-3.656.312v5.974c0 .621.504 1.125 1.125 1.125h4.5v-4.5h4.5v4.5h4.5c.621 0 1.125-.504 1.125-1.125v-5.974a3.65 3.65 0 0 1-1.547.35Z\" fill=\"#7ED8AA\" fill-opacity=\"0.5\"></path></svg><div class=\"property-type-collpase_value__KXE2n fz-14 fw-600 flex \" style=\"gap: 6px;\"><div class=\"text-light fw-400\">Area Size : </div>0.16 - 0.36 marla</div></div></div></div><div><div class=\"fw-700 lhn\"><small>PKR </small>31.15&nbsp;Lakh to 71.2&nbsp;Lakh</div></div></div></div></div></div></div></div></div>'"
      ]
     },
     "execution_count": 39,
     "metadata": {},
     "output_type": "execute_result"
    }
   ],
   "source": [
    "info_elements[1].get_attribute('outerHTML')"
   ]
  },
  {
   "cell_type": "markdown",
   "metadata": {},
   "source": [
    "#### Extract Flats Data"
   ]
  },
  {
   "cell_type": "code",
   "execution_count": 73,
   "metadata": {},
   "outputs": [
    {
     "name": "stdout",
     "output_type": "stream",
     "text": [
      "<div><div class=\"flex flexYcenter\" style=\"gap:10px\"><div>Apartment</div></div></div>\n",
      "Apartment\n"
     ]
    },
    {
     "data": {
      "text/plain": [
       "'Apartment'"
      ]
     },
     "execution_count": 73,
     "metadata": {},
     "output_type": "execute_result"
    }
   ],
   "source": [
    "info_cards = info_elements[0].find_elements(By.CSS_SELECTOR, 'div.rc-collapse-content-box div[class*=\"card_card\"]')\n",
    "# for card in info_cards:\n",
    "#     print(card.get_attribute('outerHTML'))\n",
    "\n",
    "(card_type_ele, card_price_ele) = info_cards[0].find_elements(By.CSS_SELECTOR, 'div[class*=\"property-type-collpase_cardHeader\"] > div > div')\n",
    "print(card_type_ele.get_attribute('outerHTML'))\n",
    "driver.execute_script(\"return arguments[0].textContent;\", card_type_ele)\n",
    "# print(card_type_ele.text, card_price_ele.text)\n",
    "\n",
    "# info_blocks = info_cards[0].find_elements(By.CSS_SELECTOR, 'div[class*=\"property-type-collpase_infoBlock\"]')\n",
    "# #property name\n",
    "# print(info_blocks[0].find_element(By.CSS_SELECTOR, ':scope > div:nth-child(2) div[class*=\"property-type-collpase_key\"]').text)\n",
    "# #property value\n",
    "# info_blocks[0].find_element(By.CSS_SELECTOR, ':scope > div:nth-child(2) div[class*=\"property-type-collpase_value\"]').text"
   ]
  },
  {
   "cell_type": "markdown",
   "metadata": {},
   "source": [
    "#### Extract Shops Data"
   ]
  },
  {
   "cell_type": "code",
   "execution_count": 52,
   "metadata": {},
   "outputs": [
    {
     "name": "stdout",
     "output_type": "stream",
     "text": [
      "<div class=\"card_card__3KEPg property-type-collpase_cardContents__2KvST card_border__2siZ1\" style=\"--padding: 24px;\"><div class=\"w-100 text-dark space_space__2CSKB space_align-center__2jK7Q space_justify-space-between__2vruQ\" style=\"gap: 16px;\"><div><div><div class=\"flex flexYcenter u-mb12\" style=\"gap: 10px;\"><div class=\"fw-700\">Commercial outlets Ground Floor</div></div><div class=\"flex flexYcenter\" style=\"gap: 6px;\"><svg width=\"1em\" height=\"1em\" viewBox=\"0 0 24 24\" class=\"Icon_icon__2_bai\" bgStyle=\"[object Object]\" color=\"#7ed8aa\" style=\"--icon-size: 1em; --icon-color: #7ed8aa; flex: 0 0 auto;\"><path d=\"m20.983 9.051-1.018-4.074a1.124 1.124 0 0 0-1.091-.852H5.127c-.516 0-.966.351-1.092.852L3.017 9.05A.55.55 0 0 0 3 9.187C3 10.738 4.198 12 5.672 12c.856 0 1.62-.426 2.11-1.088C8.27 11.574 9.033 12 9.89 12c.856 0 1.62-.426 2.109-1.088.49.662 1.252 1.088 2.11 1.088.857 0 1.62-.426 2.109-1.088.49.662 1.252 1.088 2.11 1.088C19.801 12 21 10.738 21 9.187a.548.548 0 0 0-.017-.136Z\" fill=\"#79D0A4\"></path><path d=\"M18.328 13.124a3.68 3.68 0 0 1-2.11-.661c-1.23.856-2.987.856-4.218 0-1.23.856-2.988.856-4.219 0a3.65 3.65 0 0 1-3.656.312v5.974c0 .621.504 1.125 1.125 1.125h4.5v-4.5h4.5v4.5h4.5c.621 0 1.125-.504 1.125-1.125v-5.974a3.65 3.65 0 0 1-1.547.35Z\" fill=\"#7ED8AA\" fill-opacity=\"0.5\"></path></svg><div class=\"property-type-collpase_value__KXE2n fz-14 fw-600 flex \" style=\"gap: 6px;\"><div class=\"text-light fw-400\">Area Size : </div>0.56 - 2.18 marla</div></div></div></div><div><div class=\"fw-700 lhn\"><small>PKR </small>1.46 Crore to 5.74 Crore</div></div></div></div>\n",
      "<div class=\"card_card__3KEPg property-type-collpase_cardContents__2KvST card_border__2siZ1\" style=\"--padding: 24px;\"><div class=\"w-100 text-dark space_space__2CSKB space_align-center__2jK7Q space_justify-space-between__2vruQ\" style=\"gap: 16px;\"><div><div><div class=\"flex flexYcenter u-mb12\" style=\"gap: 10px;\"><div class=\"fw-700\">Commercial Outlets 1st Floor</div></div><div class=\"flex flexYcenter\" style=\"gap: 6px;\"><svg width=\"1em\" height=\"1em\" viewBox=\"0 0 24 24\" class=\"Icon_icon__2_bai\" bgStyle=\"[object Object]\" color=\"#7ed8aa\" style=\"--icon-size: 1em; --icon-color: #7ed8aa; flex: 0 0 auto;\"><path d=\"m20.983 9.051-1.018-4.074a1.124 1.124 0 0 0-1.091-.852H5.127c-.516 0-.966.351-1.092.852L3.017 9.05A.55.55 0 0 0 3 9.187C3 10.738 4.198 12 5.672 12c.856 0 1.62-.426 2.11-1.088C8.27 11.574 9.033 12 9.89 12c.856 0 1.62-.426 2.109-1.088.49.662 1.252 1.088 2.11 1.088.857 0 1.62-.426 2.109-1.088.49.662 1.252 1.088 2.11 1.088C19.801 12 21 10.738 21 9.187a.548.548 0 0 0-.017-.136Z\" fill=\"#79D0A4\"></path><path d=\"M18.328 13.124a3.68 3.68 0 0 1-2.11-.661c-1.23.856-2.987.856-4.218 0-1.23.856-2.988.856-4.219 0a3.65 3.65 0 0 1-3.656.312v5.974c0 .621.504 1.125 1.125 1.125h4.5v-4.5h4.5v4.5h4.5c.621 0 1.125-.504 1.125-1.125v-5.974a3.65 3.65 0 0 1-1.547.35Z\" fill=\"#7ED8AA\" fill-opacity=\"0.5\"></path></svg><div class=\"property-type-collpase_value__KXE2n fz-14 fw-600 flex \" style=\"gap: 6px;\"><div class=\"text-light fw-400\">Area Size : </div>0.56 - 1.64 marla</div></div></div></div><div><div class=\"fw-700 lhn\"><small>PKR </small>1.11 Crore to 3.27 Crore</div></div></div></div>\n",
      "<div class=\"card_card__3KEPg property-type-collpase_cardContents__2KvST card_border__2siZ1\" style=\"--padding: 24px;\"><div class=\"w-100 text-dark space_space__2CSKB space_align-center__2jK7Q space_justify-space-between__2vruQ\" style=\"gap: 16px;\"><div><div><div class=\"flex flexYcenter u-mb12\" style=\"gap: 10px;\"><div class=\"fw-700\">Commercial Outlets 2nd Floor</div></div><div class=\"flex flexYcenter\" style=\"gap: 6px;\"><svg width=\"1em\" height=\"1em\" viewBox=\"0 0 24 24\" class=\"Icon_icon__2_bai\" bgStyle=\"[object Object]\" color=\"#7ed8aa\" style=\"--icon-size: 1em; --icon-color: #7ed8aa; flex: 0 0 auto;\"><path d=\"m20.983 9.051-1.018-4.074a1.124 1.124 0 0 0-1.091-.852H5.127c-.516 0-.966.351-1.092.852L3.017 9.05A.55.55 0 0 0 3 9.187C3 10.738 4.198 12 5.672 12c.856 0 1.62-.426 2.11-1.088C8.27 11.574 9.033 12 9.89 12c.856 0 1.62-.426 2.109-1.088.49.662 1.252 1.088 2.11 1.088.857 0 1.62-.426 2.109-1.088.49.662 1.252 1.088 2.11 1.088C19.801 12 21 10.738 21 9.187a.548.548 0 0 0-.017-.136Z\" fill=\"#79D0A4\"></path><path d=\"M18.328 13.124a3.68 3.68 0 0 1-2.11-.661c-1.23.856-2.987.856-4.218 0-1.23.856-2.988.856-4.219 0a3.65 3.65 0 0 1-3.656.312v5.974c0 .621.504 1.125 1.125 1.125h4.5v-4.5h4.5v4.5h4.5c.621 0 1.125-.504 1.125-1.125v-5.974a3.65 3.65 0 0 1-1.547.35Z\" fill=\"#7ED8AA\" fill-opacity=\"0.5\"></path></svg><div class=\"property-type-collpase_value__KXE2n fz-14 fw-600 flex \" style=\"gap: 6px;\"><div class=\"text-light fw-400\">Area Size : </div>0.56 - 1.65 marla</div></div></div></div><div><div class=\"fw-700 lhn\"><small>PKR </small>97.5&nbsp;Lakh to 2.9 Crore</div></div></div></div>\n",
      "<div class=\"card_card__3KEPg property-type-collpase_cardContents__2KvST card_border__2siZ1\" style=\"--padding: 24px;\"><div class=\"w-100 text-dark space_space__2CSKB space_align-center__2jK7Q space_justify-space-between__2vruQ\" style=\"gap: 16px;\"><div><div><div class=\"flex flexYcenter u-mb12\" style=\"gap: 10px;\"><div class=\"fw-700\">Commercial Outlets 3rd Floor</div></div><div class=\"flex flexYcenter\" style=\"gap: 6px;\"><svg width=\"1em\" height=\"1em\" viewBox=\"0 0 24 24\" class=\"Icon_icon__2_bai\" bgStyle=\"[object Object]\" color=\"#7ed8aa\" style=\"--icon-size: 1em; --icon-color: #7ed8aa; flex: 0 0 auto;\"><path d=\"m20.983 9.051-1.018-4.074a1.124 1.124 0 0 0-1.091-.852H5.127c-.516 0-.966.351-1.092.852L3.017 9.05A.55.55 0 0 0 3 9.187C3 10.738 4.198 12 5.672 12c.856 0 1.62-.426 2.11-1.088C8.27 11.574 9.033 12 9.89 12c.856 0 1.62-.426 2.109-1.088.49.662 1.252 1.088 2.11 1.088.857 0 1.62-.426 2.109-1.088.49.662 1.252 1.088 2.11 1.088C19.801 12 21 10.738 21 9.187a.548.548 0 0 0-.017-.136Z\" fill=\"#79D0A4\"></path><path d=\"M18.328 13.124a3.68 3.68 0 0 1-2.11-.661c-1.23.856-2.987.856-4.218 0-1.23.856-2.988.856-4.219 0a3.65 3.65 0 0 1-3.656.312v5.974c0 .621.504 1.125 1.125 1.125h4.5v-4.5h4.5v4.5h4.5c.621 0 1.125-.504 1.125-1.125v-5.974a3.65 3.65 0 0 1-1.547.35Z\" fill=\"#7ED8AA\" fill-opacity=\"0.5\"></path></svg><div class=\"property-type-collpase_value__KXE2n fz-14 fw-600 flex \" style=\"gap: 6px;\"><div class=\"text-light fw-400\">Area Size : </div>1 - 2.44 marla</div></div></div></div><div><div class=\"fw-700 lhn\"><small>PKR </small>1.69 Crore to 4.16 Crore</div></div></div></div>\n",
      "<div class=\"card_card__3KEPg property-type-collpase_cardContents__2KvST card_border__2siZ1\" style=\"--padding: 24px;\"><div class=\"w-100 text-dark space_space__2CSKB space_align-center__2jK7Q space_justify-space-between__2vruQ\" style=\"gap: 16px;\"><div><div><div class=\"flex flexYcenter u-mb12\" style=\"gap: 10px;\"><div class=\"fw-700\">Kiosk on Ground Floor</div></div><div class=\"flex flexYcenter\" style=\"gap: 6px;\"><svg width=\"1em\" height=\"1em\" viewBox=\"0 0 24 24\" class=\"Icon_icon__2_bai\" bgStyle=\"[object Object]\" color=\"#7ed8aa\" style=\"--icon-size: 1em; --icon-color: #7ed8aa; flex: 0 0 auto;\"><path d=\"m20.983 9.051-1.018-4.074a1.124 1.124 0 0 0-1.091-.852H5.127c-.516 0-.966.351-1.092.852L3.017 9.05A.55.55 0 0 0 3 9.187C3 10.738 4.198 12 5.672 12c.856 0 1.62-.426 2.11-1.088C8.27 11.574 9.033 12 9.89 12c.856 0 1.62-.426 2.109-1.088.49.662 1.252 1.088 2.11 1.088.857 0 1.62-.426 2.109-1.088.49.662 1.252 1.088 2.11 1.088C19.801 12 21 10.738 21 9.187a.548.548 0 0 0-.017-.136Z\" fill=\"#79D0A4\"></path><path d=\"M18.328 13.124a3.68 3.68 0 0 1-2.11-.661c-1.23.856-2.987.856-4.218 0-1.23.856-2.988.856-4.219 0a3.65 3.65 0 0 1-3.656.312v5.974c0 .621.504 1.125 1.125 1.125h4.5v-4.5h4.5v4.5h4.5c.621 0 1.125-.504 1.125-1.125v-5.974a3.65 3.65 0 0 1-1.547.35Z\" fill=\"#7ED8AA\" fill-opacity=\"0.5\"></path></svg><div class=\"property-type-collpase_value__KXE2n fz-14 fw-600 flex \" style=\"gap: 6px;\"><div class=\"text-light fw-400\">Area Size : </div>0.36 - 0.4 marla</div></div></div></div><div><div class=\"fw-700 lhn\"><small>PKR </small>97.8&nbsp;Lakh to 1.1 Crore</div></div></div></div>\n",
      "<div class=\"card_card__3KEPg property-type-collpase_cardContents__2KvST card_border__2siZ1\" style=\"--padding: 24px;\"><div class=\"w-100 text-dark space_space__2CSKB space_align-center__2jK7Q space_justify-space-between__2vruQ\" style=\"gap: 16px;\"><div><div><div class=\"flex flexYcenter u-mb12\" style=\"gap: 10px;\"><div class=\"fw-700\">Kiosk on 1st Floor</div></div><div class=\"flex flexYcenter\" style=\"gap: 6px;\"><svg width=\"1em\" height=\"1em\" viewBox=\"0 0 24 24\" class=\"Icon_icon__2_bai\" bgStyle=\"[object Object]\" color=\"#7ed8aa\" style=\"--icon-size: 1em; --icon-color: #7ed8aa; flex: 0 0 auto;\"><path d=\"m20.983 9.051-1.018-4.074a1.124 1.124 0 0 0-1.091-.852H5.127c-.516 0-.966.351-1.092.852L3.017 9.05A.55.55 0 0 0 3 9.187C3 10.738 4.198 12 5.672 12c.856 0 1.62-.426 2.11-1.088C8.27 11.574 9.033 12 9.89 12c.856 0 1.62-.426 2.109-1.088.49.662 1.252 1.088 2.11 1.088.857 0 1.62-.426 2.109-1.088.49.662 1.252 1.088 2.11 1.088C19.801 12 21 10.738 21 9.187a.548.548 0 0 0-.017-.136Z\" fill=\"#79D0A4\"></path><path d=\"M18.328 13.124a3.68 3.68 0 0 1-2.11-.661c-1.23.856-2.987.856-4.218 0-1.23.856-2.988.856-4.219 0a3.65 3.65 0 0 1-3.656.312v5.974c0 .621.504 1.125 1.125 1.125h4.5v-4.5h4.5v4.5h4.5c.621 0 1.125-.504 1.125-1.125v-5.974a3.65 3.65 0 0 1-1.547.35Z\" fill=\"#7ED8AA\" fill-opacity=\"0.5\"></path></svg><div class=\"property-type-collpase_value__KXE2n fz-14 fw-600 flex \" style=\"gap: 6px;\"><div class=\"text-light fw-400\">Area Size : </div>0.36 - 0.43 marla</div></div></div></div><div><div class=\"fw-700 lhn\"><small>PKR </small>88.89&nbsp;Lakh to 1.08 Crore</div></div></div></div>\n",
      "<div class=\"card_card__3KEPg property-type-collpase_cardContents__2KvST card_border__2siZ1\" style=\"--padding: 24px;\"><div class=\"w-100 text-dark space_space__2CSKB space_align-center__2jK7Q space_justify-space-between__2vruQ\" style=\"gap: 16px;\"><div><div><div class=\"flex flexYcenter u-mb12\" style=\"gap: 10px;\"><div class=\"fw-700\">Kiosk on 2nd Floor</div></div><div class=\"flex flexYcenter\" style=\"gap: 6px;\"><svg width=\"1em\" height=\"1em\" viewBox=\"0 0 24 24\" class=\"Icon_icon__2_bai\" bgStyle=\"[object Object]\" color=\"#7ed8aa\" style=\"--icon-size: 1em; --icon-color: #7ed8aa; flex: 0 0 auto;\"><path d=\"m20.983 9.051-1.018-4.074a1.124 1.124 0 0 0-1.091-.852H5.127c-.516 0-.966.351-1.092.852L3.017 9.05A.55.55 0 0 0 3 9.187C3 10.738 4.198 12 5.672 12c.856 0 1.62-.426 2.11-1.088C8.27 11.574 9.033 12 9.89 12c.856 0 1.62-.426 2.109-1.088.49.662 1.252 1.088 2.11 1.088.857 0 1.62-.426 2.109-1.088.49.662 1.252 1.088 2.11 1.088C19.801 12 21 10.738 21 9.187a.548.548 0 0 0-.017-.136Z\" fill=\"#79D0A4\"></path><path d=\"M18.328 13.124a3.68 3.68 0 0 1-2.11-.661c-1.23.856-2.987.856-4.218 0-1.23.856-2.988.856-4.219 0a3.65 3.65 0 0 1-3.656.312v5.974c0 .621.504 1.125 1.125 1.125h4.5v-4.5h4.5v4.5h4.5c.621 0 1.125-.504 1.125-1.125v-5.974a3.65 3.65 0 0 1-1.547.35Z\" fill=\"#7ED8AA\" fill-opacity=\"0.5\"></path></svg><div class=\"property-type-collpase_value__KXE2n fz-14 fw-600 flex \" style=\"gap: 6px;\"><div class=\"text-light fw-400\">Area Size : </div>0.36 - 0.4 marla</div></div></div></div><div><div class=\"fw-700 lhn\"><small>PKR </small>80&nbsp;Lakh to 90&nbsp;Lakh</div></div></div></div>\n",
      "<div class=\"card_card__3KEPg property-type-collpase_cardContents__2KvST card_border__2siZ1\" style=\"--padding: 24px;\"><div class=\"w-100 text-dark space_space__2CSKB space_align-center__2jK7Q space_justify-space-between__2vruQ\" style=\"gap: 16px;\"><div><div><div class=\"flex flexYcenter u-mb12\" style=\"gap: 10px;\"><div class=\"fw-700\">Kiosk on 3rd Floor</div></div><div class=\"flex flexYcenter\" style=\"gap: 6px;\"><svg width=\"1em\" height=\"1em\" viewBox=\"0 0 24 24\" class=\"Icon_icon__2_bai\" bgStyle=\"[object Object]\" color=\"#7ed8aa\" style=\"--icon-size: 1em; --icon-color: #7ed8aa; flex: 0 0 auto;\"><path d=\"m20.983 9.051-1.018-4.074a1.124 1.124 0 0 0-1.091-.852H5.127c-.516 0-.966.351-1.092.852L3.017 9.05A.55.55 0 0 0 3 9.187C3 10.738 4.198 12 5.672 12c.856 0 1.62-.426 2.11-1.088C8.27 11.574 9.033 12 9.89 12c.856 0 1.62-.426 2.109-1.088.49.662 1.252 1.088 2.11 1.088.857 0 1.62-.426 2.109-1.088.49.662 1.252 1.088 2.11 1.088C19.801 12 21 10.738 21 9.187a.548.548 0 0 0-.017-.136Z\" fill=\"#79D0A4\"></path><path d=\"M18.328 13.124a3.68 3.68 0 0 1-2.11-.661c-1.23.856-2.987.856-4.218 0-1.23.856-2.988.856-4.219 0a3.65 3.65 0 0 1-3.656.312v5.974c0 .621.504 1.125 1.125 1.125h4.5v-4.5h4.5v4.5h4.5c.621 0 1.125-.504 1.125-1.125v-5.974a3.65 3.65 0 0 1-1.547.35Z\" fill=\"#7ED8AA\" fill-opacity=\"0.5\"></path></svg><div class=\"property-type-collpase_value__KXE2n fz-14 fw-600 flex \" style=\"gap: 6px;\"><div class=\"text-light fw-400\">Area Size : </div>0.16 - 0.36 marla</div></div></div></div><div><div class=\"fw-700 lhn\"><small>PKR </small>31.15&nbsp;Lakh to 71.2&nbsp;Lakh</div></div></div></div>\n"
     ]
    },
    {
     "ename": "ValueError",
     "evalue": "not enough values to unpack (expected 2, got 0)",
     "output_type": "error",
     "traceback": [
      "\u001b[1;31m---------------------------------------------------------------------------\u001b[0m",
      "\u001b[1;31mValueError\u001b[0m                                Traceback (most recent call last)",
      "Cell \u001b[1;32mIn[52], line 5\u001b[0m\n\u001b[0;32m      2\u001b[0m \u001b[38;5;28;01mfor\u001b[39;00m card \u001b[38;5;129;01min\u001b[39;00m info_cards:\n\u001b[0;32m      3\u001b[0m     \u001b[38;5;28mprint\u001b[39m(card\u001b[38;5;241m.\u001b[39mget_attribute(\u001b[38;5;124m'\u001b[39m\u001b[38;5;124mouterHTML\u001b[39m\u001b[38;5;124m'\u001b[39m))\n\u001b[1;32m----> 5\u001b[0m (card_type_ele, card_price_ele) \u001b[38;5;241m=\u001b[39m info_cards[\u001b[38;5;241m0\u001b[39m]\u001b[38;5;241m.\u001b[39mfind_elements(By\u001b[38;5;241m.\u001b[39mCSS_SELECTOR, \u001b[38;5;124m'\u001b[39m\u001b[38;5;124mdiv[class*=\u001b[39m\u001b[38;5;124m\"\u001b[39m\u001b[38;5;124mproperty-type-collpase_cardHeader\u001b[39m\u001b[38;5;124m\"\u001b[39m\u001b[38;5;124m] > div > div\u001b[39m\u001b[38;5;124m'\u001b[39m)\n\u001b[0;32m      7\u001b[0m card_type_ele\u001b[38;5;241m.\u001b[39mtext, card_price_ele\u001b[38;5;241m.\u001b[39mtext\n\u001b[0;32m      9\u001b[0m info_blocks \u001b[38;5;241m=\u001b[39m info_cards[\u001b[38;5;241m0\u001b[39m]\u001b[38;5;241m.\u001b[39mfind_elements(By\u001b[38;5;241m.\u001b[39mCSS_SELECTOR, \u001b[38;5;124m'\u001b[39m\u001b[38;5;124mdiv[class*=\u001b[39m\u001b[38;5;124m\"\u001b[39m\u001b[38;5;124mproperty-type-collpase_infoBlock\u001b[39m\u001b[38;5;124m\"\u001b[39m\u001b[38;5;124m]\u001b[39m\u001b[38;5;124m'\u001b[39m)\n",
      "\u001b[1;31mValueError\u001b[0m: not enough values to unpack (expected 2, got 0)"
     ]
    }
   ],
   "source": [
    "info_cards = info_elements[1].find_elements(By.CSS_SELECTOR, 'div.rc-collapse-content-box div[class*=\"card_card\"]')\n",
    "for card in info_cards:\n",
    "    print(card.get_attribute('outerHTML'))\n",
    "\n",
    "(card_type_ele, card_price_ele) = info_cards[0].find_elements(By.CSS_SELECTOR, 'div[class*=\"property-type-collpase_cardHeader\"] > div > div')\n",
    "\n",
    "card_type_ele.text, card_price_ele.text\n",
    "\n",
    "info_blocks = info_cards[0].find_elements(By.CSS_SELECTOR, 'div[class*=\"property-type-collpase_infoBlock\"]')\n",
    "#property name\n",
    "print(info_blocks[0].find_element(By.CSS_SELECTOR, ':scope > div:nth-child(2) div[class*=\"property-type-collpase_key\"]').text)\n",
    "#property value\n",
    "info_blocks[0].find_element(By.CSS_SELECTOR, ':scope > div:nth-child(2) div[class*=\"property-type-collpase_value\"]').text"
   ]
  },
  {
   "cell_type": "code",
   "execution_count": null,
   "metadata": {},
   "outputs": [],
   "source": [
    "# html_to_file(requests.get(page_url).text, 'city_page_html.html')"
   ]
  },
  {
   "cell_type": "code",
   "execution_count": null,
   "metadata": {},
   "outputs": [],
   "source": []
  }
 ],
 "metadata": {
  "kernelspec": {
   "display_name": "env",
   "language": "python",
   "name": "python3"
  },
  "language_info": {
   "codemirror_mode": {
    "name": "ipython",
    "version": 3
   },
   "file_extension": ".py",
   "mimetype": "text/x-python",
   "name": "python",
   "nbconvert_exporter": "python",
   "pygments_lexer": "ipython3",
   "version": "3.10.5"
  }
 },
 "nbformat": 4,
 "nbformat_minor": 2
}
